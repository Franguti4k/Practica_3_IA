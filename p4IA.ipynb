{
  "cells": [
    {
      "cell_type": "markdown",
      "id": "efc9b805",
      "metadata": {
        "id": "efc9b805"
      },
      "source": [
        "Francisco Gutierrez Gallego y Gina Ramirez Guerro\n",
        "\n",
        "\n",
        "Definición del proyecto con CRISP-DM\n",
        "\n",
        "\n",
        "Definición de la tarea de mineria de datos\n",
        "Nuestro objetivo es analizar el dataset para detectar el número de intrusiones en cuanto a ciberseguridad basado en el tráfico de red y el comportamiento de el usuario\n",
        "Preparación de los datos\n",
        "Se tomaron 9436 casos con variables en cuenta como el tamaño de bytes de los paquetes, el tipo de protocolo y los métodos de encriptación, así como ciertas conductas del usuario como número de logins, duración de la sesión del usuario, entre otras.\n",
        "Se realizara la limpieza de datos nulos y atipicos para no afectar a las estadisticas.\n",
        "\n",
        "\n",
        "Proceso de construcción del modelo\n",
        "Cargaremos desde Kaggle el dataset al Google Colab, con el fin de tener los datos la cual llamaremos base de conocimiento y así poder manipularlos posteriromente con los análisis con el fin de sacar estádisticas y probabilidades y entrenar al modelo.\n",
        "Finalmente, el modelo será capaz de detectar intrusiones antes de que sucedan con el análisis del comportamiento del usuario.\n",
        "\n",
        "Evaluación e interpretación del modelo\n",
        "Procederemos a realizar los siguientes análisis: descriptivo, univariante, bivariante y de correlación con los cuales podremos obtener información de como la media, minimos, máximos, los cuartiles y la desviación estándar.\n",
        "Con la cantidad de casos satisfactorios que tenga nuestro modelo, podremos darnos cuenta si el dataset y las estadísticas son confiables,\n",
        "\n",
        "Integración de los resultados en el proceso\n",
        "Cuando tengamos el modelo óptimo, cuyo margen de error es pequeño, se podra integrar dicho modelo para que funcione de forma automatizada en servicios web para prevenir ataques e intrusiones."
      ]
    },
    {
      "cell_type": "code",
      "execution_count": 1,
      "id": "fa2dae86",
      "metadata": {
        "id": "fa2dae86"
      },
      "outputs": [],
      "source": [
        "import pandas as pd\n",
        "import numpy as np\n",
        "import matplotlib.pyplot as plt\n",
        "import seaborn as sns"
      ]
    },
    {
      "cell_type": "code",
      "execution_count": 2,
      "id": "49acfbeb",
      "metadata": {
        "id": "49acfbeb"
      },
      "outputs": [],
      "source": [
        "df=pd.read_csv('cybersecurity_intrusion_data.csv')"
      ]
    },
    {
      "cell_type": "markdown",
      "id": "352ca5c0",
      "metadata": {
        "id": "352ca5c0"
      },
      "source": [
        "Analisis descriptivo"
      ]
    },
    {
      "cell_type": "code",
      "execution_count": 3,
      "id": "9326ce05",
      "metadata": {
        "colab": {
          "base_uri": "https://localhost:8080/"
        },
        "id": "9326ce05",
        "outputId": "cf956865-4d66-40af-e85d-713a83bf9b8f"
      },
      "outputs": [
        {
          "data": {
            "text/plain": [
              "(9537, 11)"
            ]
          },
          "execution_count": 3,
          "metadata": {},
          "output_type": "execute_result"
        }
      ],
      "source": [
        "df.shape"
      ]
    },
    {
      "cell_type": "code",
      "execution_count": 4,
      "id": "8f7305ed",
      "metadata": {
        "colab": {
          "base_uri": "https://localhost:8080/",
          "height": 444
        },
        "id": "8f7305ed",
        "outputId": "203a860b-a716-43d4-fb99-fceda7ab88cf"
      },
      "outputs": [
        {
          "data": {
            "text/html": [
              "<div>\n",
              "<style scoped>\n",
              "    .dataframe tbody tr th:only-of-type {\n",
              "        vertical-align: middle;\n",
              "    }\n",
              "\n",
              "    .dataframe tbody tr th {\n",
              "        vertical-align: top;\n",
              "    }\n",
              "\n",
              "    .dataframe thead th {\n",
              "        text-align: right;\n",
              "    }\n",
              "</style>\n",
              "<table border=\"1\" class=\"dataframe\">\n",
              "  <thead>\n",
              "    <tr style=\"text-align: right;\">\n",
              "      <th></th>\n",
              "      <th>session_id</th>\n",
              "      <th>network_packet_size</th>\n",
              "      <th>protocol_type</th>\n",
              "      <th>login_attempts</th>\n",
              "      <th>session_duration</th>\n",
              "      <th>encryption_used</th>\n",
              "      <th>ip_reputation_score</th>\n",
              "      <th>failed_logins</th>\n",
              "      <th>browser_type</th>\n",
              "      <th>unusual_time_access</th>\n",
              "      <th>attack_detected</th>\n",
              "    </tr>\n",
              "  </thead>\n",
              "  <tbody>\n",
              "    <tr>\n",
              "      <th>0</th>\n",
              "      <td>SID_00001</td>\n",
              "      <td>599</td>\n",
              "      <td>TCP</td>\n",
              "      <td>4</td>\n",
              "      <td>492.983263</td>\n",
              "      <td>DES</td>\n",
              "      <td>0.606818</td>\n",
              "      <td>1</td>\n",
              "      <td>Edge</td>\n",
              "      <td>0</td>\n",
              "      <td>1</td>\n",
              "    </tr>\n",
              "    <tr>\n",
              "      <th>1</th>\n",
              "      <td>SID_00002</td>\n",
              "      <td>472</td>\n",
              "      <td>TCP</td>\n",
              "      <td>3</td>\n",
              "      <td>1557.996461</td>\n",
              "      <td>DES</td>\n",
              "      <td>0.301569</td>\n",
              "      <td>0</td>\n",
              "      <td>Firefox</td>\n",
              "      <td>0</td>\n",
              "      <td>0</td>\n",
              "    </tr>\n",
              "    <tr>\n",
              "      <th>2</th>\n",
              "      <td>SID_00003</td>\n",
              "      <td>629</td>\n",
              "      <td>TCP</td>\n",
              "      <td>3</td>\n",
              "      <td>75.044262</td>\n",
              "      <td>DES</td>\n",
              "      <td>0.739164</td>\n",
              "      <td>2</td>\n",
              "      <td>Chrome</td>\n",
              "      <td>0</td>\n",
              "      <td>1</td>\n",
              "    </tr>\n",
              "    <tr>\n",
              "      <th>3</th>\n",
              "      <td>SID_00004</td>\n",
              "      <td>804</td>\n",
              "      <td>UDP</td>\n",
              "      <td>4</td>\n",
              "      <td>601.248835</td>\n",
              "      <td>DES</td>\n",
              "      <td>0.123267</td>\n",
              "      <td>0</td>\n",
              "      <td>Unknown</td>\n",
              "      <td>0</td>\n",
              "      <td>1</td>\n",
              "    </tr>\n",
              "    <tr>\n",
              "      <th>4</th>\n",
              "      <td>SID_00005</td>\n",
              "      <td>453</td>\n",
              "      <td>TCP</td>\n",
              "      <td>5</td>\n",
              "      <td>532.540888</td>\n",
              "      <td>AES</td>\n",
              "      <td>0.054874</td>\n",
              "      <td>1</td>\n",
              "      <td>Firefox</td>\n",
              "      <td>0</td>\n",
              "      <td>0</td>\n",
              "    </tr>\n",
              "    <tr>\n",
              "      <th>...</th>\n",
              "      <td>...</td>\n",
              "      <td>...</td>\n",
              "      <td>...</td>\n",
              "      <td>...</td>\n",
              "      <td>...</td>\n",
              "      <td>...</td>\n",
              "      <td>...</td>\n",
              "      <td>...</td>\n",
              "      <td>...</td>\n",
              "      <td>...</td>\n",
              "      <td>...</td>\n",
              "    </tr>\n",
              "    <tr>\n",
              "      <th>995</th>\n",
              "      <td>SID_00996</td>\n",
              "      <td>443</td>\n",
              "      <td>UDP</td>\n",
              "      <td>4</td>\n",
              "      <td>422.310513</td>\n",
              "      <td>NaN</td>\n",
              "      <td>0.115795</td>\n",
              "      <td>2</td>\n",
              "      <td>Chrome</td>\n",
              "      <td>1</td>\n",
              "      <td>0</td>\n",
              "    </tr>\n",
              "    <tr>\n",
              "      <th>996</th>\n",
              "      <td>SID_00997</td>\n",
              "      <td>859</td>\n",
              "      <td>UDP</td>\n",
              "      <td>6</td>\n",
              "      <td>182.151983</td>\n",
              "      <td>AES</td>\n",
              "      <td>0.381430</td>\n",
              "      <td>1</td>\n",
              "      <td>Edge</td>\n",
              "      <td>0</td>\n",
              "      <td>0</td>\n",
              "    </tr>\n",
              "    <tr>\n",
              "      <th>997</th>\n",
              "      <td>SID_00998</td>\n",
              "      <td>628</td>\n",
              "      <td>TCP</td>\n",
              "      <td>6</td>\n",
              "      <td>564.040399</td>\n",
              "      <td>NaN</td>\n",
              "      <td>0.335371</td>\n",
              "      <td>2</td>\n",
              "      <td>Edge</td>\n",
              "      <td>0</td>\n",
              "      <td>0</td>\n",
              "    </tr>\n",
              "    <tr>\n",
              "      <th>998</th>\n",
              "      <td>SID_00999</td>\n",
              "      <td>385</td>\n",
              "      <td>TCP</td>\n",
              "      <td>8</td>\n",
              "      <td>500.715379</td>\n",
              "      <td>NaN</td>\n",
              "      <td>0.285088</td>\n",
              "      <td>0</td>\n",
              "      <td>Chrome</td>\n",
              "      <td>0</td>\n",
              "      <td>1</td>\n",
              "    </tr>\n",
              "    <tr>\n",
              "      <th>999</th>\n",
              "      <td>SID_01000</td>\n",
              "      <td>614</td>\n",
              "      <td>UDP</td>\n",
              "      <td>8</td>\n",
              "      <td>803.958317</td>\n",
              "      <td>NaN</td>\n",
              "      <td>0.352202</td>\n",
              "      <td>1</td>\n",
              "      <td>Chrome</td>\n",
              "      <td>0</td>\n",
              "      <td>1</td>\n",
              "    </tr>\n",
              "  </tbody>\n",
              "</table>\n",
              "<p>1000 rows × 11 columns</p>\n",
              "</div>"
            ],
            "text/plain": [
              "    session_id  network_packet_size protocol_type  login_attempts  \\\n",
              "0    SID_00001                  599           TCP               4   \n",
              "1    SID_00002                  472           TCP               3   \n",
              "2    SID_00003                  629           TCP               3   \n",
              "3    SID_00004                  804           UDP               4   \n",
              "4    SID_00005                  453           TCP               5   \n",
              "..         ...                  ...           ...             ...   \n",
              "995  SID_00996                  443           UDP               4   \n",
              "996  SID_00997                  859           UDP               6   \n",
              "997  SID_00998                  628           TCP               6   \n",
              "998  SID_00999                  385           TCP               8   \n",
              "999  SID_01000                  614           UDP               8   \n",
              "\n",
              "     session_duration encryption_used  ip_reputation_score  failed_logins  \\\n",
              "0          492.983263             DES             0.606818              1   \n",
              "1         1557.996461             DES             0.301569              0   \n",
              "2           75.044262             DES             0.739164              2   \n",
              "3          601.248835             DES             0.123267              0   \n",
              "4          532.540888             AES             0.054874              1   \n",
              "..                ...             ...                  ...            ...   \n",
              "995        422.310513             NaN             0.115795              2   \n",
              "996        182.151983             AES             0.381430              1   \n",
              "997        564.040399             NaN             0.335371              2   \n",
              "998        500.715379             NaN             0.285088              0   \n",
              "999        803.958317             NaN             0.352202              1   \n",
              "\n",
              "    browser_type  unusual_time_access  attack_detected  \n",
              "0           Edge                    0                1  \n",
              "1        Firefox                    0                0  \n",
              "2         Chrome                    0                1  \n",
              "3        Unknown                    0                1  \n",
              "4        Firefox                    0                0  \n",
              "..           ...                  ...              ...  \n",
              "995       Chrome                    1                0  \n",
              "996         Edge                    0                0  \n",
              "997         Edge                    0                0  \n",
              "998       Chrome                    0                1  \n",
              "999       Chrome                    0                1  \n",
              "\n",
              "[1000 rows x 11 columns]"
            ]
          },
          "execution_count": 4,
          "metadata": {},
          "output_type": "execute_result"
        }
      ],
      "source": [
        "df.head(1000)"
      ]
    },
    {
      "cell_type": "code",
      "execution_count": 5,
      "id": "6b71d0aa",
      "metadata": {
        "colab": {
          "base_uri": "https://localhost:8080/",
          "height": 300
        },
        "id": "6b71d0aa",
        "outputId": "1e2a9a0c-6325-4daf-973f-6ebcef527811"
      },
      "outputs": [
        {
          "data": {
            "text/html": [
              "<div>\n",
              "<style scoped>\n",
              "    .dataframe tbody tr th:only-of-type {\n",
              "        vertical-align: middle;\n",
              "    }\n",
              "\n",
              "    .dataframe tbody tr th {\n",
              "        vertical-align: top;\n",
              "    }\n",
              "\n",
              "    .dataframe thead th {\n",
              "        text-align: right;\n",
              "    }\n",
              "</style>\n",
              "<table border=\"1\" class=\"dataframe\">\n",
              "  <thead>\n",
              "    <tr style=\"text-align: right;\">\n",
              "      <th></th>\n",
              "      <th>network_packet_size</th>\n",
              "      <th>login_attempts</th>\n",
              "      <th>session_duration</th>\n",
              "      <th>ip_reputation_score</th>\n",
              "      <th>failed_logins</th>\n",
              "      <th>unusual_time_access</th>\n",
              "      <th>attack_detected</th>\n",
              "    </tr>\n",
              "  </thead>\n",
              "  <tbody>\n",
              "    <tr>\n",
              "      <th>count</th>\n",
              "      <td>9537.000000</td>\n",
              "      <td>9537.000000</td>\n",
              "      <td>9537.000000</td>\n",
              "      <td>9537.000000</td>\n",
              "      <td>9537.000000</td>\n",
              "      <td>9537.000000</td>\n",
              "      <td>9537.000000</td>\n",
              "    </tr>\n",
              "    <tr>\n",
              "      <th>mean</th>\n",
              "      <td>500.430639</td>\n",
              "      <td>4.032086</td>\n",
              "      <td>792.745312</td>\n",
              "      <td>0.331338</td>\n",
              "      <td>1.517773</td>\n",
              "      <td>0.149942</td>\n",
              "      <td>0.447101</td>\n",
              "    </tr>\n",
              "    <tr>\n",
              "      <th>std</th>\n",
              "      <td>198.379364</td>\n",
              "      <td>1.963012</td>\n",
              "      <td>786.560144</td>\n",
              "      <td>0.177175</td>\n",
              "      <td>1.033988</td>\n",
              "      <td>0.357034</td>\n",
              "      <td>0.497220</td>\n",
              "    </tr>\n",
              "    <tr>\n",
              "      <th>min</th>\n",
              "      <td>64.000000</td>\n",
              "      <td>1.000000</td>\n",
              "      <td>0.500000</td>\n",
              "      <td>0.002497</td>\n",
              "      <td>0.000000</td>\n",
              "      <td>0.000000</td>\n",
              "      <td>0.000000</td>\n",
              "    </tr>\n",
              "    <tr>\n",
              "      <th>25%</th>\n",
              "      <td>365.000000</td>\n",
              "      <td>3.000000</td>\n",
              "      <td>231.953006</td>\n",
              "      <td>0.191946</td>\n",
              "      <td>1.000000</td>\n",
              "      <td>0.000000</td>\n",
              "      <td>0.000000</td>\n",
              "    </tr>\n",
              "    <tr>\n",
              "      <th>50%</th>\n",
              "      <td>499.000000</td>\n",
              "      <td>4.000000</td>\n",
              "      <td>556.277457</td>\n",
              "      <td>0.314778</td>\n",
              "      <td>1.000000</td>\n",
              "      <td>0.000000</td>\n",
              "      <td>0.000000</td>\n",
              "    </tr>\n",
              "    <tr>\n",
              "      <th>75%</th>\n",
              "      <td>635.000000</td>\n",
              "      <td>5.000000</td>\n",
              "      <td>1105.380602</td>\n",
              "      <td>0.453388</td>\n",
              "      <td>2.000000</td>\n",
              "      <td>0.000000</td>\n",
              "      <td>1.000000</td>\n",
              "    </tr>\n",
              "    <tr>\n",
              "      <th>max</th>\n",
              "      <td>1285.000000</td>\n",
              "      <td>13.000000</td>\n",
              "      <td>7190.392213</td>\n",
              "      <td>0.924299</td>\n",
              "      <td>5.000000</td>\n",
              "      <td>1.000000</td>\n",
              "      <td>1.000000</td>\n",
              "    </tr>\n",
              "  </tbody>\n",
              "</table>\n",
              "</div>"
            ],
            "text/plain": [
              "       network_packet_size  login_attempts  session_duration  \\\n",
              "count          9537.000000     9537.000000       9537.000000   \n",
              "mean            500.430639        4.032086        792.745312   \n",
              "std             198.379364        1.963012        786.560144   \n",
              "min              64.000000        1.000000          0.500000   \n",
              "25%             365.000000        3.000000        231.953006   \n",
              "50%             499.000000        4.000000        556.277457   \n",
              "75%             635.000000        5.000000       1105.380602   \n",
              "max            1285.000000       13.000000       7190.392213   \n",
              "\n",
              "       ip_reputation_score  failed_logins  unusual_time_access  \\\n",
              "count          9537.000000    9537.000000          9537.000000   \n",
              "mean              0.331338       1.517773             0.149942   \n",
              "std               0.177175       1.033988             0.357034   \n",
              "min               0.002497       0.000000             0.000000   \n",
              "25%               0.191946       1.000000             0.000000   \n",
              "50%               0.314778       1.000000             0.000000   \n",
              "75%               0.453388       2.000000             0.000000   \n",
              "max               0.924299       5.000000             1.000000   \n",
              "\n",
              "       attack_detected  \n",
              "count      9537.000000  \n",
              "mean          0.447101  \n",
              "std           0.497220  \n",
              "min           0.000000  \n",
              "25%           0.000000  \n",
              "50%           0.000000  \n",
              "75%           1.000000  \n",
              "max           1.000000  "
            ]
          },
          "execution_count": 5,
          "metadata": {},
          "output_type": "execute_result"
        }
      ],
      "source": [
        "df.describe()"
      ]
    },
    {
      "cell_type": "code",
      "execution_count": 6,
      "id": "c1d6cda8",
      "metadata": {
        "colab": {
          "base_uri": "https://localhost:8080/"
        },
        "id": "c1d6cda8",
        "outputId": "87c81775-63d9-486b-c7e0-3f440cb752db"
      },
      "outputs": [
        {
          "name": "stdout",
          "output_type": "stream",
          "text": [
            "<class 'pandas.core.frame.DataFrame'>\n",
            "RangeIndex: 9537 entries, 0 to 9536\n",
            "Data columns (total 11 columns):\n",
            " #   Column               Non-Null Count  Dtype  \n",
            "---  ------               --------------  -----  \n",
            " 0   session_id           9537 non-null   object \n",
            " 1   network_packet_size  9537 non-null   int64  \n",
            " 2   protocol_type        9537 non-null   object \n",
            " 3   login_attempts       9537 non-null   int64  \n",
            " 4   session_duration     9537 non-null   float64\n",
            " 5   encryption_used      7571 non-null   object \n",
            " 6   ip_reputation_score  9537 non-null   float64\n",
            " 7   failed_logins        9537 non-null   int64  \n",
            " 8   browser_type         9537 non-null   object \n",
            " 9   unusual_time_access  9537 non-null   int64  \n",
            " 10  attack_detected      9537 non-null   int64  \n",
            "dtypes: float64(2), int64(5), object(4)\n",
            "memory usage: 819.7+ KB\n"
          ]
        }
      ],
      "source": [
        "df.info()"
      ]
    },
    {
      "cell_type": "code",
      "execution_count": 7,
      "id": "cf3faab4",
      "metadata": {
        "colab": {
          "base_uri": "https://localhost:8080/",
          "height": 458
        },
        "id": "cf3faab4",
        "outputId": "c0cb3842-f6a3-439f-c315-6b17a4904ac9"
      },
      "outputs": [
        {
          "data": {
            "text/plain": [
              "0                 DES\n",
              "1                 DES\n",
              "2                 DES\n",
              "3                 DES\n",
              "4                 AES\n",
              "            ...      \n",
              "9532              AES\n",
              "9533    Not Encrypted\n",
              "9534              AES\n",
              "9535              AES\n",
              "9536    Not Encrypted\n",
              "Name: encryption_used, Length: 9537, dtype: object"
            ]
          },
          "execution_count": 7,
          "metadata": {},
          "output_type": "execute_result"
        }
      ],
      "source": [
        "# Reemplaza None y NaN en una columna específica (por ejemplo, 'encryption')\n",
        "df['encryption_used'] = df['encryption_used'].fillna('Not Encrypted')\n",
        "\n",
        "# Nos aseguramos de que 'None' como string sea reemplazado:\n",
        "df['encryption_used'] = df['encryption_used'].replace('None', 'Not Encrypted')\n",
        "\n",
        "df['encryption_used']"
      ]
    },
    {
      "cell_type": "code",
      "execution_count": 8,
      "id": "7f077d26",
      "metadata": {
        "colab": {
          "base_uri": "https://localhost:8080/"
        },
        "id": "7f077d26",
        "outputId": "18166e02-8e25-421c-c855-bd10ccc74651"
      },
      "outputs": [
        {
          "data": {
            "text/plain": [
              "Index(['session_id', 'network_packet_size', 'protocol_type', 'login_attempts',\n",
              "       'session_duration', 'encryption_used', 'ip_reputation_score',\n",
              "       'failed_logins', 'browser_type', 'unusual_time_access',\n",
              "       'attack_detected'],\n",
              "      dtype='object')"
            ]
          },
          "execution_count": 8,
          "metadata": {},
          "output_type": "execute_result"
        }
      ],
      "source": [
        "column_names = df.columns\n",
        "column_names"
      ]
    },
    {
      "cell_type": "markdown",
      "id": "ef988e05",
      "metadata": {
        "id": "ef988e05"
      },
      "source": [
        "Separamos los valores numericos y categoricos"
      ]
    },
    {
      "cell_type": "code",
      "execution_count": 9,
      "id": "14538057",
      "metadata": {
        "id": "14538057"
      },
      "outputs": [],
      "source": [
        "\n",
        "vars_numeric = pd.DataFrame()\n",
        "vars_categority = pd.DataFrame()\n",
        "for i in column_names:\n",
        "  if i != 'session_id':\n",
        "    if df[i].dtype != 'object' and i != 'attack_detected' and i != 'unusual_time_access' and i != 'failed_logins' and i != 'login_attempts':\n",
        "      vars_numeric[i] = df[i]\n",
        "    else:\n",
        "      vars_categority[i] = df[i]"
      ]
    },
    {
      "cell_type": "code",
      "execution_count": 10,
      "id": "1a67355e",
      "metadata": {
        "colab": {
          "base_uri": "https://localhost:8080/",
          "height": 429
        },
        "id": "1a67355e",
        "outputId": "40495317-cefd-4421-c002-309fcadf329a"
      },
      "outputs": [
        {
          "data": {
            "text/plain": [
              "session_id             0\n",
              "network_packet_size    0\n",
              "protocol_type          0\n",
              "login_attempts         0\n",
              "session_duration       0\n",
              "encryption_used        0\n",
              "ip_reputation_score    0\n",
              "failed_logins          0\n",
              "browser_type           0\n",
              "unusual_time_access    0\n",
              "attack_detected        0\n",
              "dtype: int64"
            ]
          },
          "execution_count": 10,
          "metadata": {},
          "output_type": "execute_result"
        }
      ],
      "source": [
        "df.isnull().sum() #miramos si hay valores nulos"
      ]
    },
    {
      "cell_type": "code",
      "execution_count": 11,
      "id": "9b5a0a70",
      "metadata": {
        "colab": {
          "base_uri": "https://localhost:8080/"
        },
        "id": "9b5a0a70",
        "outputId": "9a23a50c-3537-421f-f0fc-1fe85074a4fd"
      },
      "outputs": [
        {
          "data": {
            "text/plain": [
              "0"
            ]
          },
          "execution_count": 11,
          "metadata": {},
          "output_type": "execute_result"
        }
      ],
      "source": [
        "df.duplicated().sum()"
      ]
    },
    {
      "cell_type": "markdown",
      "id": "bd86cbf7",
      "metadata": {
        "id": "bd86cbf7"
      },
      "source": [
        "Analisis Univariante"
      ]
    },
    {
      "cell_type": "markdown",
      "id": "320c65a3",
      "metadata": {
        "id": "320c65a3"
      },
      "source": [
        "Analisis univariante de valores numericos"
      ]
    },
    {
      "cell_type": "code",
      "execution_count": 12,
      "id": "9a88346d",
      "metadata": {
        "colab": {
          "base_uri": "https://localhost:8080/",
          "height": 1000
        },
        "id": "9a88346d",
        "outputId": "4da84c1a-573e-4c8c-928c-535bffdbc926"
      },
      "outputs": [
        {
          "data": {
            "image/png": "[encoded data removed]",
            "text/plain": [
              "<Figure size 640x480 with 1 Axes>"
            ]
          },
          "metadata": {},
          "output_type": "display_data"
        },
        {
          "name": "stdout",
          "output_type": "stream",
          "text": [
            "\n"
          ]
        },
        {
          "data": {
            "image/png": "[encoded data removed]",
            "text/plain": [
              "<Figure size 640x480 with 1 Axes>"
            ]
          },
          "metadata": {},
          "output_type": "display_data"
        },
        {
          "name": "stdout",
          "output_type": "stream",
          "text": [
            "\n"
          ]
        },
        {
          "data": {
            "image/png": "[encoded data removed]",
            "text/plain": [
              "<Figure size 640x480 with 1 Axes>"
            ]
          },
          "metadata": {},
          "output_type": "display_data"
        },
        {
          "name": "stdout",
          "output_type": "stream",
          "text": [
            "\n"
          ]
        }
      ],
      "source": [
        "for i in vars_numeric:\n",
        "  plt.hist(df[i], edgecolor='black')\n",
        "  plt.title('Histograma')\n",
        "  plt.xlabel(i)\n",
        "  plt.ylabel('Frecuencia')\n",
        "  plt.show()\n",
        "  print()"
      ]
    },
    {
      "cell_type": "code",
      "execution_count": 13,
      "id": "92a68145",
      "metadata": {
        "colab": {
          "base_uri": "https://localhost:8080/",
          "height": 1000
        },
        "id": "92a68145",
        "outputId": "012b72dc-28eb-48bb-8029-4ce4a28ae210"
      },
      "outputs": [
        {
          "data": {
            "image/png": "[encoded data removed]",
            "text/plain": [
              "<Figure size 640x480 with 1 Axes>"
            ]
          },
          "metadata": {},
          "output_type": "display_data"
        },
        {
          "name": "stdout",
          "output_type": "stream",
          "text": [
            "\n"
          ]
        },
        {
          "data": {
            "image/png": "[encoded data removed]",
            "text/plain": [
              "<Figure size 640x480 with 1 Axes>"
            ]
          },
          "metadata": {},
          "output_type": "display_data"
        },
        {
          "name": "stdout",
          "output_type": "stream",
          "text": [
            "\n"
          ]
        },
        {
          "data": {
            "image/png": "[encoded data removed]",
            "text/plain": [
              "<Figure size 640x480 with 1 Axes>"
            ]
          },
          "metadata": {},
          "output_type": "display_data"
        },
        {
          "name": "stdout",
          "output_type": "stream",
          "text": [
            "\n"
          ]
        }
      ],
      "source": [
        "for i in vars_numeric:\n",
        "    plt.boxplot(df[i])\n",
        "    plt.title('Diagrama de caja')\n",
        "    plt.ylabel(i)\n",
        "    plt.show()\n",
        "    print()"
      ]
    },
    {
      "cell_type": "markdown",
      "id": "2e73a13d",
      "metadata": {
        "id": "2e73a13d"
      },
      "source": [
        "Analisis univariante de valores categoricos"
      ]
    },
    {
      "cell_type": "code",
      "execution_count": 14,
      "id": "b2a6023f",
      "metadata": {
        "colab": {
          "base_uri": "https://localhost:8080/",
          "height": 206
        },
        "id": "b2a6023f",
        "outputId": "efd8f23b-905a-4112-afee-4eff5100922c"
      },
      "outputs": [
        {
          "data": {
            "text/html": [
              "<div>\n",
              "<style scoped>\n",
              "    .dataframe tbody tr th:only-of-type {\n",
              "        vertical-align: middle;\n",
              "    }\n",
              "\n",
              "    .dataframe tbody tr th {\n",
              "        vertical-align: top;\n",
              "    }\n",
              "\n",
              "    .dataframe thead th {\n",
              "        text-align: right;\n",
              "    }\n",
              "</style>\n",
              "<table border=\"1\" class=\"dataframe\">\n",
              "  <thead>\n",
              "    <tr style=\"text-align: right;\">\n",
              "      <th></th>\n",
              "      <th>protocol_type</th>\n",
              "      <th>login_attempts</th>\n",
              "      <th>encryption_used</th>\n",
              "      <th>failed_logins</th>\n",
              "      <th>browser_type</th>\n",
              "      <th>unusual_time_access</th>\n",
              "      <th>attack_detected</th>\n",
              "    </tr>\n",
              "  </thead>\n",
              "  <tbody>\n",
              "    <tr>\n",
              "      <th>0</th>\n",
              "      <td>TCP</td>\n",
              "      <td>4</td>\n",
              "      <td>DES</td>\n",
              "      <td>1</td>\n",
              "      <td>Edge</td>\n",
              "      <td>0</td>\n",
              "      <td>1</td>\n",
              "    </tr>\n",
              "    <tr>\n",
              "      <th>1</th>\n",
              "      <td>TCP</td>\n",
              "      <td>3</td>\n",
              "      <td>DES</td>\n",
              "      <td>0</td>\n",
              "      <td>Firefox</td>\n",
              "      <td>0</td>\n",
              "      <td>0</td>\n",
              "    </tr>\n",
              "    <tr>\n",
              "      <th>2</th>\n",
              "      <td>TCP</td>\n",
              "      <td>3</td>\n",
              "      <td>DES</td>\n",
              "      <td>2</td>\n",
              "      <td>Chrome</td>\n",
              "      <td>0</td>\n",
              "      <td>1</td>\n",
              "    </tr>\n",
              "    <tr>\n",
              "      <th>3</th>\n",
              "      <td>UDP</td>\n",
              "      <td>4</td>\n",
              "      <td>DES</td>\n",
              "      <td>0</td>\n",
              "      <td>Unknown</td>\n",
              "      <td>0</td>\n",
              "      <td>1</td>\n",
              "    </tr>\n",
              "    <tr>\n",
              "      <th>4</th>\n",
              "      <td>TCP</td>\n",
              "      <td>5</td>\n",
              "      <td>AES</td>\n",
              "      <td>1</td>\n",
              "      <td>Firefox</td>\n",
              "      <td>0</td>\n",
              "      <td>0</td>\n",
              "    </tr>\n",
              "  </tbody>\n",
              "</table>\n",
              "</div>"
            ],
            "text/plain": [
              "  protocol_type  login_attempts encryption_used  failed_logins browser_type  \\\n",
              "0           TCP               4             DES              1         Edge   \n",
              "1           TCP               3             DES              0      Firefox   \n",
              "2           TCP               3             DES              2       Chrome   \n",
              "3           UDP               4             DES              0      Unknown   \n",
              "4           TCP               5             AES              1      Firefox   \n",
              "\n",
              "   unusual_time_access  attack_detected  \n",
              "0                    0                1  \n",
              "1                    0                0  \n",
              "2                    0                1  \n",
              "3                    0                1  \n",
              "4                    0                0  "
            ]
          },
          "execution_count": 14,
          "metadata": {},
          "output_type": "execute_result"
        }
      ],
      "source": [
        "vars_categority.head()"
      ]
    },
    {
      "cell_type": "code",
      "execution_count": 15,
      "id": "33dd36c0",
      "metadata": {
        "colab": {
          "base_uri": "https://localhost:8080/",
          "height": 1000
        },
        "id": "33dd36c0",
        "outputId": "2143a2be-0cd2-49ab-991e-b0e06c6c7c72"
      },
      "outputs": [
        {
          "data": {
            "image/png": "[encoded data removed]",
            "text/plain": [
              "<Figure size 640x480 with 1 Axes>"
            ]
          },
          "metadata": {},
          "output_type": "display_data"
        },
        {
          "name": "stdout",
          "output_type": "stream",
          "text": [
            "\n"
          ]
        },
        {
          "data": {
            "image/png": "[encoded data removed]",
            "text/plain": [
              "<Figure size 640x480 with 1 Axes>"
            ]
          },
          "metadata": {},
          "output_type": "display_data"
        },
        {
          "name": "stdout",
          "output_type": "stream",
          "text": [
            "\n"
          ]
        },
        {
          "data": {
            "image/png": "[encoded data removed]",
            "text/plain": [
              "<Figure size 640x480 with 1 Axes>"
            ]
          },
          "metadata": {},
          "output_type": "display_data"
        },
        {
          "name": "stdout",
          "output_type": "stream",
          "text": [
            "\n"
          ]
        },
        {
          "data": {
            "image/png": "[encoded data removed]",
            "text/plain": [
              "<Figure size 640x480 with 1 Axes>"
            ]
          },
          "metadata": {},
          "output_type": "display_data"
        },
        {
          "name": "stdout",
          "output_type": "stream",
          "text": [
            "\n"
          ]
        },
        {
          "data": {
            "image/png": "[encoded data removed]",
            "text/plain": [
              "<Figure size 640x480 with 1 Axes>"
            ]
          },
          "metadata": {},
          "output_type": "display_data"
        },
        {
          "name": "stdout",
          "output_type": "stream",
          "text": [
            "\n"
          ]
        },
        {
          "data": {
            "image/png": "[encoded data removed]",
            "text/plain": [
              "<Figure size 640x480 with 1 Axes>"
            ]
          },
          "metadata": {},
          "output_type": "display_data"
        },
        {
          "name": "stdout",
          "output_type": "stream",
          "text": [
            "\n"
          ]
        },
        {
          "data": {
            "image/png": "[encoded data removed]",
            "text/plain": [
              "<Figure size 640x480 with 1 Axes>"
            ]
          },
          "metadata": {},
          "output_type": "display_data"
        },
        {
          "name": "stdout",
          "output_type": "stream",
          "text": [
            "\n"
          ]
        }
      ],
      "source": [
        "for i in vars_categority:\n",
        "    value_counts = df[i].value_counts()\n",
        "    plt.pie(value_counts, labels=value_counts.index, autopct='%1.1f%%', startangle=90)\n",
        "    plt.title('Distribución de ' + i)\n",
        "    plt.axis('equal')\n",
        "    plt.show()\n",
        "    print()"
      ]
    },
    {
      "cell_type": "markdown",
      "id": "768b519f",
      "metadata": {
        "id": "768b519f"
      },
      "source": [
        "Analisis bivariante entre numerica y numerica"
      ]
    },
    {
      "cell_type": "code",
      "execution_count": 16,
      "id": "79b7dcf0",
      "metadata": {
        "colab": {
          "base_uri": "https://localhost:8080/",
          "height": 1000
        },
        "id": "79b7dcf0",
        "outputId": "d8998d28-2681-49ef-973d-dd71a548310b"
      },
      "outputs": [
        {
          "data": {
            "image/png": "[encoded data removed]",
            "text/plain": [
              "<Figure size 640x480 with 1 Axes>"
            ]
          },
          "metadata": {},
          "output_type": "display_data"
        },
        {
          "name": "stdout",
          "output_type": "stream",
          "text": [
            "\n"
          ]
        },
        {
          "data": {
            "image/png": "[encoded data removed]",
            "text/plain": [
              "<Figure size 640x480 with 1 Axes>"
            ]
          },
          "metadata": {},
          "output_type": "display_data"
        },
        {
          "name": "stdout",
          "output_type": "stream",
          "text": [
            "\n"
          ]
        },
        {
          "data": {
            "image/png": "[encoded data removed]",
            "text/plain": [
              "<Figure size 640x480 with 1 Axes>"
            ]
          },
          "metadata": {},
          "output_type": "display_data"
        },
        {
          "name": "stdout",
          "output_type": "stream",
          "text": [
            "\n"
          ]
        },
        {
          "data": {
            "image/png": "[encoded data removed]",
            "text/plain": [
              "<Figure size 640x480 with 1 Axes>"
            ]
          },
          "metadata": {},
          "output_type": "display_data"
        },
        {
          "name": "stdout",
          "output_type": "stream",
          "text": [
            "\n"
          ]
        },
        {
          "data": {
            "image/png": "[encoded data removed]",
            "text/plain": [
              "<Figure size 640x480 with 1 Axes>"
            ]
          },
          "metadata": {},
          "output_type": "display_data"
        },
        {
          "name": "stdout",
          "output_type": "stream",
          "text": [
            "\n"
          ]
        },
        {
          "data": {
            "image/png": "[encoded data removed]",
            "text/plain": [
              "<Figure size 640x480 with 1 Axes>"
            ]
          },
          "metadata": {},
          "output_type": "display_data"
        },
        {
          "name": "stdout",
          "output_type": "stream",
          "text": [
            "\n"
          ]
        }
      ],
      "source": [
        "for i in vars_numeric.columns:\n",
        "  for j in vars_numeric.columns:\n",
        "    if i != j:\n",
        "      plt.scatter(vars_numeric[i], vars_numeric[j])\n",
        "      plt.xlabel(i)\n",
        "      plt.ylabel(j)\n",
        "      plt.show()\n",
        "      print()"
      ]
    },
    {
      "cell_type": "markdown",
      "id": "7489ea3d",
      "metadata": {
        "id": "7489ea3d"
      },
      "source": []
    },
    {
      "cell_type": "code",
      "execution_count": null,
      "id": "3e0ef96d",
      "metadata": {
        "id": "3e0ef96d"
      },
      "outputs": [],
      "source": []
    },
    {
      "cell_type": "markdown",
      "id": "d4db8d90",
      "metadata": {
        "id": "d4db8d90"
      },
      "source": []
    },
    {
      "cell_type": "code",
      "execution_count": null,
      "id": "d0420896",
      "metadata": {
        "id": "d0420896"
      },
      "outputs": [],
      "source": []
    },
    {
      "cell_type": "markdown",
      "id": "92ce5fb1",
      "metadata": {
        "id": "92ce5fb1"
      },
      "source": [
        "Analisis correlacion"
      ]
    },
    {
      "cell_type": "code",
      "execution_count": 17,
      "id": "9e2c8a45",
      "metadata": {
        "colab": {
          "base_uri": "https://localhost:8080/",
          "height": 143
        },
        "id": "9e2c8a45",
        "outputId": "b5f2c281-cba9-4519-8570-6696ab42f9f7"
      },
      "outputs": [
        {
          "data": {
            "text/html": [
              "<div>\n",
              "<style scoped>\n",
              "    .dataframe tbody tr th:only-of-type {\n",
              "        vertical-align: middle;\n",
              "    }\n",
              "\n",
              "    .dataframe tbody tr th {\n",
              "        vertical-align: top;\n",
              "    }\n",
              "\n",
              "    .dataframe thead th {\n",
              "        text-align: right;\n",
              "    }\n",
              "</style>\n",
              "<table border=\"1\" class=\"dataframe\">\n",
              "  <thead>\n",
              "    <tr style=\"text-align: right;\">\n",
              "      <th></th>\n",
              "      <th>network_packet_size</th>\n",
              "      <th>session_duration</th>\n",
              "      <th>ip_reputation_score</th>\n",
              "    </tr>\n",
              "  </thead>\n",
              "  <tbody>\n",
              "    <tr>\n",
              "      <th>network_packet_size</th>\n",
              "      <td>1.00000</td>\n",
              "      <td>0.021650</td>\n",
              "      <td>0.002320</td>\n",
              "    </tr>\n",
              "    <tr>\n",
              "      <th>session_duration</th>\n",
              "      <td>0.02165</td>\n",
              "      <td>1.000000</td>\n",
              "      <td>-0.005077</td>\n",
              "    </tr>\n",
              "    <tr>\n",
              "      <th>ip_reputation_score</th>\n",
              "      <td>0.00232</td>\n",
              "      <td>-0.005077</td>\n",
              "      <td>1.000000</td>\n",
              "    </tr>\n",
              "  </tbody>\n",
              "</table>\n",
              "</div>"
            ],
            "text/plain": [
              "                     network_packet_size  session_duration  \\\n",
              "network_packet_size              1.00000          0.021650   \n",
              "session_duration                 0.02165          1.000000   \n",
              "ip_reputation_score              0.00232         -0.005077   \n",
              "\n",
              "                     ip_reputation_score  \n",
              "network_packet_size             0.002320  \n",
              "session_duration               -0.005077  \n",
              "ip_reputation_score             1.000000  "
            ]
          },
          "execution_count": 17,
          "metadata": {},
          "output_type": "execute_result"
        }
      ],
      "source": [
        "vars_numeric.corr()"
      ]
    },
    {
      "cell_type": "code",
      "execution_count": 18,
      "id": "a6191038",
      "metadata": {
        "colab": {
          "base_uri": "https://localhost:8080/",
          "height": 206
        },
        "id": "a6191038",
        "outputId": "594a9139-3d8f-48bf-8599-2735c92e4eae"
      },
      "outputs": [
        {
          "data": {
            "text/html": [
              "<div>\n",
              "<style scoped>\n",
              "    .dataframe tbody tr th:only-of-type {\n",
              "        vertical-align: middle;\n",
              "    }\n",
              "\n",
              "    .dataframe tbody tr th {\n",
              "        vertical-align: top;\n",
              "    }\n",
              "\n",
              "    .dataframe thead th {\n",
              "        text-align: right;\n",
              "    }\n",
              "</style>\n",
              "<table border=\"1\" class=\"dataframe\">\n",
              "  <thead>\n",
              "    <tr style=\"text-align: right;\">\n",
              "      <th></th>\n",
              "      <th>network_packet_size</th>\n",
              "      <th>session_duration</th>\n",
              "      <th>ip_reputation_score</th>\n",
              "    </tr>\n",
              "  </thead>\n",
              "  <tbody>\n",
              "    <tr>\n",
              "      <th>0</th>\n",
              "      <td>599</td>\n",
              "      <td>492.983263</td>\n",
              "      <td>0.606818</td>\n",
              "    </tr>\n",
              "    <tr>\n",
              "      <th>1</th>\n",
              "      <td>472</td>\n",
              "      <td>1557.996461</td>\n",
              "      <td>0.301569</td>\n",
              "    </tr>\n",
              "    <tr>\n",
              "      <th>2</th>\n",
              "      <td>629</td>\n",
              "      <td>75.044262</td>\n",
              "      <td>0.739164</td>\n",
              "    </tr>\n",
              "    <tr>\n",
              "      <th>3</th>\n",
              "      <td>804</td>\n",
              "      <td>601.248835</td>\n",
              "      <td>0.123267</td>\n",
              "    </tr>\n",
              "    <tr>\n",
              "      <th>4</th>\n",
              "      <td>453</td>\n",
              "      <td>532.540888</td>\n",
              "      <td>0.054874</td>\n",
              "    </tr>\n",
              "  </tbody>\n",
              "</table>\n",
              "</div>"
            ],
            "text/plain": [
              "   network_packet_size  session_duration  ip_reputation_score\n",
              "0                  599        492.983263             0.606818\n",
              "1                  472       1557.996461             0.301569\n",
              "2                  629         75.044262             0.739164\n",
              "3                  804        601.248835             0.123267\n",
              "4                  453        532.540888             0.054874"
            ]
          },
          "execution_count": 18,
          "metadata": {},
          "output_type": "execute_result"
        }
      ],
      "source": [
        "vars_numeric.head()"
      ]
    },
    {
      "cell_type": "code",
      "execution_count": 19,
      "id": "80cd086a",
      "metadata": {
        "colab": {
          "base_uri": "https://localhost:8080/",
          "height": 452
        },
        "id": "80cd086a",
        "outputId": "506a3702-0ebf-42a2-c80b-12548582365d"
      },
      "outputs": [
        {
          "data": {
            "image/png": "[encoded data removed]",
            "text/plain": [
              "<Figure size 640x480 with 2 Axes>"
            ]
          },
          "metadata": {},
          "output_type": "display_data"
        }
      ],
      "source": [
        "\n",
        "correlation_matrix = vars_numeric.corr()\n",
        "\n",
        "sns.heatmap(correlation_matrix, annot=True, cmap='coolwarm', fmt=\".2f\")\n",
        "plt.title(\"Matriz de correlación\")\n",
        "plt.show()\n"
      ]
    },
    {
      "cell_type": "markdown",
      "id": "e03167f0",
      "metadata": {
        "id": "e03167f0"
      },
      "source": [
        "procesamiento de datos"
      ]
    },
    {
      "cell_type": "markdown",
      "id": "1026a2f9",
      "metadata": {
        "id": "1026a2f9"
      },
      "source": [
        "Limpieza de datos"
      ]
    },
    {
      "cell_type": "code",
      "execution_count": 20,
      "id": "45153a0f",
      "metadata": {
        "colab": {
          "base_uri": "https://localhost:8080/",
          "height": 206
        },
        "id": "45153a0f",
        "outputId": "89ca9142-ec7b-4fef-a0cb-3b18ade47f13"
      },
      "outputs": [
        {
          "data": {
            "text/html": [
              "<div>\n",
              "<style scoped>\n",
              "    .dataframe tbody tr th:only-of-type {\n",
              "        vertical-align: middle;\n",
              "    }\n",
              "\n",
              "    .dataframe tbody tr th {\n",
              "        vertical-align: top;\n",
              "    }\n",
              "\n",
              "    .dataframe thead th {\n",
              "        text-align: right;\n",
              "    }\n",
              "</style>\n",
              "<table border=\"1\" class=\"dataframe\">\n",
              "  <thead>\n",
              "    <tr style=\"text-align: right;\">\n",
              "      <th></th>\n",
              "      <th>network_packet_size</th>\n",
              "      <th>protocol_type</th>\n",
              "      <th>login_attempts</th>\n",
              "      <th>session_duration</th>\n",
              "      <th>encryption_used</th>\n",
              "      <th>ip_reputation_score</th>\n",
              "      <th>failed_logins</th>\n",
              "      <th>browser_type</th>\n",
              "      <th>unusual_time_access</th>\n",
              "      <th>attack_detected</th>\n",
              "    </tr>\n",
              "  </thead>\n",
              "  <tbody>\n",
              "    <tr>\n",
              "      <th>0</th>\n",
              "      <td>599</td>\n",
              "      <td>TCP</td>\n",
              "      <td>4</td>\n",
              "      <td>492.983263</td>\n",
              "      <td>DES</td>\n",
              "      <td>0.606818</td>\n",
              "      <td>1</td>\n",
              "      <td>Edge</td>\n",
              "      <td>0</td>\n",
              "      <td>1</td>\n",
              "    </tr>\n",
              "    <tr>\n",
              "      <th>1</th>\n",
              "      <td>472</td>\n",
              "      <td>TCP</td>\n",
              "      <td>3</td>\n",
              "      <td>1557.996461</td>\n",
              "      <td>DES</td>\n",
              "      <td>0.301569</td>\n",
              "      <td>0</td>\n",
              "      <td>Firefox</td>\n",
              "      <td>0</td>\n",
              "      <td>0</td>\n",
              "    </tr>\n",
              "    <tr>\n",
              "      <th>2</th>\n",
              "      <td>629</td>\n",
              "      <td>TCP</td>\n",
              "      <td>3</td>\n",
              "      <td>75.044262</td>\n",
              "      <td>DES</td>\n",
              "      <td>0.739164</td>\n",
              "      <td>2</td>\n",
              "      <td>Chrome</td>\n",
              "      <td>0</td>\n",
              "      <td>1</td>\n",
              "    </tr>\n",
              "    <tr>\n",
              "      <th>3</th>\n",
              "      <td>804</td>\n",
              "      <td>UDP</td>\n",
              "      <td>4</td>\n",
              "      <td>601.248835</td>\n",
              "      <td>DES</td>\n",
              "      <td>0.123267</td>\n",
              "      <td>0</td>\n",
              "      <td>Unknown</td>\n",
              "      <td>0</td>\n",
              "      <td>1</td>\n",
              "    </tr>\n",
              "    <tr>\n",
              "      <th>4</th>\n",
              "      <td>453</td>\n",
              "      <td>TCP</td>\n",
              "      <td>5</td>\n",
              "      <td>532.540888</td>\n",
              "      <td>AES</td>\n",
              "      <td>0.054874</td>\n",
              "      <td>1</td>\n",
              "      <td>Firefox</td>\n",
              "      <td>0</td>\n",
              "      <td>0</td>\n",
              "    </tr>\n",
              "  </tbody>\n",
              "</table>\n",
              "</div>"
            ],
            "text/plain": [
              "   network_packet_size protocol_type  login_attempts  session_duration  \\\n",
              "0                  599           TCP               4        492.983263   \n",
              "1                  472           TCP               3       1557.996461   \n",
              "2                  629           TCP               3         75.044262   \n",
              "3                  804           UDP               4        601.248835   \n",
              "4                  453           TCP               5        532.540888   \n",
              "\n",
              "  encryption_used  ip_reputation_score  failed_logins browser_type  \\\n",
              "0             DES             0.606818              1         Edge   \n",
              "1             DES             0.301569              0      Firefox   \n",
              "2             DES             0.739164              2       Chrome   \n",
              "3             DES             0.123267              0      Unknown   \n",
              "4             AES             0.054874              1      Firefox   \n",
              "\n",
              "   unusual_time_access  attack_detected  \n",
              "0                    0                1  \n",
              "1                    0                0  \n",
              "2                    0                1  \n",
              "3                    0                1  \n",
              "4                    0                0  "
            ]
          },
          "execution_count": 20,
          "metadata": {},
          "output_type": "execute_result"
        }
      ],
      "source": [
        "df = df.drop(['session_id'], axis=1)\n",
        "df.head()"
      ]
    },
    {
      "cell_type": "markdown",
      "id": "3ffc797a",
      "metadata": {
        "id": "3ffc797a"
      },
      "source": [
        "Hemos quitado la columna session_id ya que son valores unicos donde el modelo no encontrara ningun patron"
      ]
    },
    {
      "cell_type": "code",
      "execution_count": null,
      "id": "6ea775fd",
      "metadata": {
        "id": "6ea775fd"
      },
      "outputs": [],
      "source": []
    },
    {
      "cell_type": "code",
      "execution_count": 21,
      "id": "e9046463",
      "metadata": {
        "colab": {
          "base_uri": "https://localhost:8080/",
          "height": 424
        },
        "id": "e9046463",
        "outputId": "6e2b8070-0ef7-426e-9df2-e7158ca22193"
      },
      "outputs": [
        {
          "data": {
            "text/html": [
              "<div>\n",
              "<style scoped>\n",
              "    .dataframe tbody tr th:only-of-type {\n",
              "        vertical-align: middle;\n",
              "    }\n",
              "\n",
              "    .dataframe tbody tr th {\n",
              "        vertical-align: top;\n",
              "    }\n",
              "\n",
              "    .dataframe thead th {\n",
              "        text-align: right;\n",
              "    }\n",
              "</style>\n",
              "<table border=\"1\" class=\"dataframe\">\n",
              "  <thead>\n",
              "    <tr style=\"text-align: right;\">\n",
              "      <th></th>\n",
              "      <th>protocol_type</th>\n",
              "      <th>login_attempts</th>\n",
              "      <th>encryption_used</th>\n",
              "      <th>failed_logins</th>\n",
              "      <th>browser_type</th>\n",
              "      <th>unusual_time_access</th>\n",
              "      <th>attack_detected</th>\n",
              "    </tr>\n",
              "  </thead>\n",
              "  <tbody>\n",
              "    <tr>\n",
              "      <th>0</th>\n",
              "      <td>TCP</td>\n",
              "      <td>4</td>\n",
              "      <td>DES</td>\n",
              "      <td>1</td>\n",
              "      <td>Edge</td>\n",
              "      <td>0</td>\n",
              "      <td>1</td>\n",
              "    </tr>\n",
              "    <tr>\n",
              "      <th>1</th>\n",
              "      <td>TCP</td>\n",
              "      <td>3</td>\n",
              "      <td>DES</td>\n",
              "      <td>0</td>\n",
              "      <td>Firefox</td>\n",
              "      <td>0</td>\n",
              "      <td>0</td>\n",
              "    </tr>\n",
              "    <tr>\n",
              "      <th>2</th>\n",
              "      <td>TCP</td>\n",
              "      <td>3</td>\n",
              "      <td>DES</td>\n",
              "      <td>2</td>\n",
              "      <td>Chrome</td>\n",
              "      <td>0</td>\n",
              "      <td>1</td>\n",
              "    </tr>\n",
              "    <tr>\n",
              "      <th>3</th>\n",
              "      <td>UDP</td>\n",
              "      <td>4</td>\n",
              "      <td>DES</td>\n",
              "      <td>0</td>\n",
              "      <td>Unknown</td>\n",
              "      <td>0</td>\n",
              "      <td>1</td>\n",
              "    </tr>\n",
              "    <tr>\n",
              "      <th>4</th>\n",
              "      <td>TCP</td>\n",
              "      <td>5</td>\n",
              "      <td>AES</td>\n",
              "      <td>1</td>\n",
              "      <td>Firefox</td>\n",
              "      <td>0</td>\n",
              "      <td>0</td>\n",
              "    </tr>\n",
              "    <tr>\n",
              "      <th>...</th>\n",
              "      <td>...</td>\n",
              "      <td>...</td>\n",
              "      <td>...</td>\n",
              "      <td>...</td>\n",
              "      <td>...</td>\n",
              "      <td>...</td>\n",
              "      <td>...</td>\n",
              "    </tr>\n",
              "    <tr>\n",
              "      <th>9532</th>\n",
              "      <td>ICMP</td>\n",
              "      <td>3</td>\n",
              "      <td>AES</td>\n",
              "      <td>3</td>\n",
              "      <td>Chrome</td>\n",
              "      <td>0</td>\n",
              "      <td>1</td>\n",
              "    </tr>\n",
              "    <tr>\n",
              "      <th>9533</th>\n",
              "      <td>TCP</td>\n",
              "      <td>3</td>\n",
              "      <td>Not Encrypted</td>\n",
              "      <td>0</td>\n",
              "      <td>Chrome</td>\n",
              "      <td>0</td>\n",
              "      <td>0</td>\n",
              "    </tr>\n",
              "    <tr>\n",
              "      <th>9534</th>\n",
              "      <td>TCP</td>\n",
              "      <td>5</td>\n",
              "      <td>AES</td>\n",
              "      <td>1</td>\n",
              "      <td>Firefox</td>\n",
              "      <td>0</td>\n",
              "      <td>0</td>\n",
              "    </tr>\n",
              "    <tr>\n",
              "      <th>9535</th>\n",
              "      <td>TCP</td>\n",
              "      <td>4</td>\n",
              "      <td>AES</td>\n",
              "      <td>1</td>\n",
              "      <td>Chrome</td>\n",
              "      <td>1</td>\n",
              "      <td>0</td>\n",
              "    </tr>\n",
              "    <tr>\n",
              "      <th>9536</th>\n",
              "      <td>TCP</td>\n",
              "      <td>6</td>\n",
              "      <td>Not Encrypted</td>\n",
              "      <td>4</td>\n",
              "      <td>Chrome</td>\n",
              "      <td>1</td>\n",
              "      <td>1</td>\n",
              "    </tr>\n",
              "  </tbody>\n",
              "</table>\n",
              "<p>9537 rows × 7 columns</p>\n",
              "</div>"
            ],
            "text/plain": [
              "     protocol_type  login_attempts encryption_used  failed_logins  \\\n",
              "0              TCP               4             DES              1   \n",
              "1              TCP               3             DES              0   \n",
              "2              TCP               3             DES              2   \n",
              "3              UDP               4             DES              0   \n",
              "4              TCP               5             AES              1   \n",
              "...            ...             ...             ...            ...   \n",
              "9532          ICMP               3             AES              3   \n",
              "9533           TCP               3   Not Encrypted              0   \n",
              "9534           TCP               5             AES              1   \n",
              "9535           TCP               4             AES              1   \n",
              "9536           TCP               6   Not Encrypted              4   \n",
              "\n",
              "     browser_type  unusual_time_access  attack_detected  \n",
              "0            Edge                    0                1  \n",
              "1         Firefox                    0                0  \n",
              "2          Chrome                    0                1  \n",
              "3         Unknown                    0                1  \n",
              "4         Firefox                    0                0  \n",
              "...           ...                  ...              ...  \n",
              "9532       Chrome                    0                1  \n",
              "9533       Chrome                    0                0  \n",
              "9534      Firefox                    0                0  \n",
              "9535       Chrome                    1                0  \n",
              "9536       Chrome                    1                1  \n",
              "\n",
              "[9537 rows x 7 columns]"
            ]
          },
          "execution_count": 21,
          "metadata": {},
          "output_type": "execute_result"
        }
      ],
      "source": [
        "vars_categority"
      ]
    },
    {
      "cell_type": "markdown",
      "id": "8237fe70",
      "metadata": {
        "id": "8237fe70"
      },
      "source": [
        "Eliminacion de filas donde haya mas fallos de lgin que intentos"
      ]
    },
    {
      "cell_type": "code",
      "execution_count": 22,
      "id": "5da0d749",
      "metadata": {
        "colab": {
          "base_uri": "https://localhost:8080/"
        },
        "id": "5da0d749",
        "outputId": "318e6da5-065a-4997-e0f8-19c939cd2057"
      },
      "outputs": [
        {
          "data": {
            "text/plain": [
              "(9537, 10)"
            ]
          },
          "execution_count": 22,
          "metadata": {},
          "output_type": "execute_result"
        }
      ],
      "source": [
        "df.shape"
      ]
    },
    {
      "cell_type": "code",
      "execution_count": 23,
      "id": "bbf276fb",
      "metadata": {
        "colab": {
          "base_uri": "https://localhost:8080/",
          "height": 424
        },
        "id": "bbf276fb",
        "outputId": "b72cb7af-769d-4cc0-926d-5a3313548855"
      },
      "outputs": [
        {
          "data": {
            "text/html": [
              "<div>\n",
              "<style scoped>\n",
              "    .dataframe tbody tr th:only-of-type {\n",
              "        vertical-align: middle;\n",
              "    }\n",
              "\n",
              "    .dataframe tbody tr th {\n",
              "        vertical-align: top;\n",
              "    }\n",
              "\n",
              "    .dataframe thead th {\n",
              "        text-align: right;\n",
              "    }\n",
              "</style>\n",
              "<table border=\"1\" class=\"dataframe\">\n",
              "  <thead>\n",
              "    <tr style=\"text-align: right;\">\n",
              "      <th></th>\n",
              "      <th>network_packet_size</th>\n",
              "      <th>protocol_type</th>\n",
              "      <th>login_attempts</th>\n",
              "      <th>session_duration</th>\n",
              "      <th>encryption_used</th>\n",
              "      <th>ip_reputation_score</th>\n",
              "      <th>failed_logins</th>\n",
              "      <th>browser_type</th>\n",
              "      <th>unusual_time_access</th>\n",
              "      <th>attack_detected</th>\n",
              "    </tr>\n",
              "  </thead>\n",
              "  <tbody>\n",
              "    <tr>\n",
              "      <th>0</th>\n",
              "      <td>599</td>\n",
              "      <td>TCP</td>\n",
              "      <td>4</td>\n",
              "      <td>492.983263</td>\n",
              "      <td>DES</td>\n",
              "      <td>0.606818</td>\n",
              "      <td>1</td>\n",
              "      <td>Edge</td>\n",
              "      <td>0</td>\n",
              "      <td>1</td>\n",
              "    </tr>\n",
              "    <tr>\n",
              "      <th>1</th>\n",
              "      <td>472</td>\n",
              "      <td>TCP</td>\n",
              "      <td>3</td>\n",
              "      <td>1557.996461</td>\n",
              "      <td>DES</td>\n",
              "      <td>0.301569</td>\n",
              "      <td>0</td>\n",
              "      <td>Firefox</td>\n",
              "      <td>0</td>\n",
              "      <td>0</td>\n",
              "    </tr>\n",
              "    <tr>\n",
              "      <th>2</th>\n",
              "      <td>629</td>\n",
              "      <td>TCP</td>\n",
              "      <td>3</td>\n",
              "      <td>75.044262</td>\n",
              "      <td>DES</td>\n",
              "      <td>0.739164</td>\n",
              "      <td>2</td>\n",
              "      <td>Chrome</td>\n",
              "      <td>0</td>\n",
              "      <td>1</td>\n",
              "    </tr>\n",
              "    <tr>\n",
              "      <th>3</th>\n",
              "      <td>804</td>\n",
              "      <td>UDP</td>\n",
              "      <td>4</td>\n",
              "      <td>601.248835</td>\n",
              "      <td>DES</td>\n",
              "      <td>0.123267</td>\n",
              "      <td>0</td>\n",
              "      <td>Unknown</td>\n",
              "      <td>0</td>\n",
              "      <td>1</td>\n",
              "    </tr>\n",
              "    <tr>\n",
              "      <th>4</th>\n",
              "      <td>453</td>\n",
              "      <td>TCP</td>\n",
              "      <td>5</td>\n",
              "      <td>532.540888</td>\n",
              "      <td>AES</td>\n",
              "      <td>0.054874</td>\n",
              "      <td>1</td>\n",
              "      <td>Firefox</td>\n",
              "      <td>0</td>\n",
              "      <td>0</td>\n",
              "    </tr>\n",
              "    <tr>\n",
              "      <th>...</th>\n",
              "      <td>...</td>\n",
              "      <td>...</td>\n",
              "      <td>...</td>\n",
              "      <td>...</td>\n",
              "      <td>...</td>\n",
              "      <td>...</td>\n",
              "      <td>...</td>\n",
              "      <td>...</td>\n",
              "      <td>...</td>\n",
              "      <td>...</td>\n",
              "    </tr>\n",
              "    <tr>\n",
              "      <th>9532</th>\n",
              "      <td>194</td>\n",
              "      <td>ICMP</td>\n",
              "      <td>3</td>\n",
              "      <td>226.049889</td>\n",
              "      <td>AES</td>\n",
              "      <td>0.517737</td>\n",
              "      <td>3</td>\n",
              "      <td>Chrome</td>\n",
              "      <td>0</td>\n",
              "      <td>1</td>\n",
              "    </tr>\n",
              "    <tr>\n",
              "      <th>9533</th>\n",
              "      <td>380</td>\n",
              "      <td>TCP</td>\n",
              "      <td>3</td>\n",
              "      <td>182.848475</td>\n",
              "      <td>Not Encrypted</td>\n",
              "      <td>0.408485</td>\n",
              "      <td>0</td>\n",
              "      <td>Chrome</td>\n",
              "      <td>0</td>\n",
              "      <td>0</td>\n",
              "    </tr>\n",
              "    <tr>\n",
              "      <th>9534</th>\n",
              "      <td>664</td>\n",
              "      <td>TCP</td>\n",
              "      <td>5</td>\n",
              "      <td>35.170248</td>\n",
              "      <td>AES</td>\n",
              "      <td>0.359200</td>\n",
              "      <td>1</td>\n",
              "      <td>Firefox</td>\n",
              "      <td>0</td>\n",
              "      <td>0</td>\n",
              "    </tr>\n",
              "    <tr>\n",
              "      <th>9535</th>\n",
              "      <td>406</td>\n",
              "      <td>TCP</td>\n",
              "      <td>4</td>\n",
              "      <td>86.664703</td>\n",
              "      <td>AES</td>\n",
              "      <td>0.537417</td>\n",
              "      <td>1</td>\n",
              "      <td>Chrome</td>\n",
              "      <td>1</td>\n",
              "      <td>0</td>\n",
              "    </tr>\n",
              "    <tr>\n",
              "      <th>9536</th>\n",
              "      <td>340</td>\n",
              "      <td>TCP</td>\n",
              "      <td>6</td>\n",
              "      <td>86.876744</td>\n",
              "      <td>Not Encrypted</td>\n",
              "      <td>0.277069</td>\n",
              "      <td>4</td>\n",
              "      <td>Chrome</td>\n",
              "      <td>1</td>\n",
              "      <td>1</td>\n",
              "    </tr>\n",
              "  </tbody>\n",
              "</table>\n",
              "<p>9537 rows × 10 columns</p>\n",
              "</div>"
            ],
            "text/plain": [
              "      network_packet_size protocol_type  login_attempts  session_duration  \\\n",
              "0                     599           TCP               4        492.983263   \n",
              "1                     472           TCP               3       1557.996461   \n",
              "2                     629           TCP               3         75.044262   \n",
              "3                     804           UDP               4        601.248835   \n",
              "4                     453           TCP               5        532.540888   \n",
              "...                   ...           ...             ...               ...   \n",
              "9532                  194          ICMP               3        226.049889   \n",
              "9533                  380           TCP               3        182.848475   \n",
              "9534                  664           TCP               5         35.170248   \n",
              "9535                  406           TCP               4         86.664703   \n",
              "9536                  340           TCP               6         86.876744   \n",
              "\n",
              "     encryption_used  ip_reputation_score  failed_logins browser_type  \\\n",
              "0                DES             0.606818              1         Edge   \n",
              "1                DES             0.301569              0      Firefox   \n",
              "2                DES             0.739164              2       Chrome   \n",
              "3                DES             0.123267              0      Unknown   \n",
              "4                AES             0.054874              1      Firefox   \n",
              "...              ...                  ...            ...          ...   \n",
              "9532             AES             0.517737              3       Chrome   \n",
              "9533   Not Encrypted             0.408485              0       Chrome   \n",
              "9534             AES             0.359200              1      Firefox   \n",
              "9535             AES             0.537417              1       Chrome   \n",
              "9536   Not Encrypted             0.277069              4       Chrome   \n",
              "\n",
              "      unusual_time_access  attack_detected  \n",
              "0                       0                1  \n",
              "1                       0                0  \n",
              "2                       0                1  \n",
              "3                       0                1  \n",
              "4                       0                0  \n",
              "...                   ...              ...  \n",
              "9532                    0                1  \n",
              "9533                    0                0  \n",
              "9534                    0                0  \n",
              "9535                    1                0  \n",
              "9536                    1                1  \n",
              "\n",
              "[9537 rows x 10 columns]"
            ]
          },
          "execution_count": 23,
          "metadata": {},
          "output_type": "execute_result"
        }
      ],
      "source": [
        "df"
      ]
    },
    {
      "cell_type": "code",
      "execution_count": 24,
      "id": "b8fe08b5",
      "metadata": {
        "id": "b8fe08b5"
      },
      "outputs": [],
      "source": [
        "df = df[df['failed_logins']<=df['login_attempts']].copy()"
      ]
    },
    {
      "cell_type": "code",
      "execution_count": 25,
      "id": "4ff693f2",
      "metadata": {
        "id": "4ff693f2"
      },
      "outputs": [],
      "source": [
        "#reseteamos el index del data frame\n",
        "df.reset_index(drop=True, inplace=True)\n",
        "\n"
      ]
    },
    {
      "cell_type": "code",
      "execution_count": 26,
      "id": "61e55d58",
      "metadata": {
        "colab": {
          "base_uri": "https://localhost:8080/",
          "height": 424
        },
        "id": "61e55d58",
        "outputId": "f7e6bd15-0737-410f-85d9-f9dbd2c11cf6"
      },
      "outputs": [
        {
          "data": {
            "text/html": [
              "<div>\n",
              "<style scoped>\n",
              "    .dataframe tbody tr th:only-of-type {\n",
              "        vertical-align: middle;\n",
              "    }\n",
              "\n",
              "    .dataframe tbody tr th {\n",
              "        vertical-align: top;\n",
              "    }\n",
              "\n",
              "    .dataframe thead th {\n",
              "        text-align: right;\n",
              "    }\n",
              "</style>\n",
              "<table border=\"1\" class=\"dataframe\">\n",
              "  <thead>\n",
              "    <tr style=\"text-align: right;\">\n",
              "      <th></th>\n",
              "      <th>network_packet_size</th>\n",
              "      <th>protocol_type</th>\n",
              "      <th>login_attempts</th>\n",
              "      <th>session_duration</th>\n",
              "      <th>encryption_used</th>\n",
              "      <th>ip_reputation_score</th>\n",
              "      <th>failed_logins</th>\n",
              "      <th>browser_type</th>\n",
              "      <th>unusual_time_access</th>\n",
              "      <th>attack_detected</th>\n",
              "    </tr>\n",
              "  </thead>\n",
              "  <tbody>\n",
              "    <tr>\n",
              "      <th>0</th>\n",
              "      <td>599</td>\n",
              "      <td>TCP</td>\n",
              "      <td>4</td>\n",
              "      <td>492.983263</td>\n",
              "      <td>DES</td>\n",
              "      <td>0.606818</td>\n",
              "      <td>1</td>\n",
              "      <td>Edge</td>\n",
              "      <td>0</td>\n",
              "      <td>1</td>\n",
              "    </tr>\n",
              "    <tr>\n",
              "      <th>1</th>\n",
              "      <td>472</td>\n",
              "      <td>TCP</td>\n",
              "      <td>3</td>\n",
              "      <td>1557.996461</td>\n",
              "      <td>DES</td>\n",
              "      <td>0.301569</td>\n",
              "      <td>0</td>\n",
              "      <td>Firefox</td>\n",
              "      <td>0</td>\n",
              "      <td>0</td>\n",
              "    </tr>\n",
              "    <tr>\n",
              "      <th>2</th>\n",
              "      <td>629</td>\n",
              "      <td>TCP</td>\n",
              "      <td>3</td>\n",
              "      <td>75.044262</td>\n",
              "      <td>DES</td>\n",
              "      <td>0.739164</td>\n",
              "      <td>2</td>\n",
              "      <td>Chrome</td>\n",
              "      <td>0</td>\n",
              "      <td>1</td>\n",
              "    </tr>\n",
              "    <tr>\n",
              "      <th>3</th>\n",
              "      <td>804</td>\n",
              "      <td>UDP</td>\n",
              "      <td>4</td>\n",
              "      <td>601.248835</td>\n",
              "      <td>DES</td>\n",
              "      <td>0.123267</td>\n",
              "      <td>0</td>\n",
              "      <td>Unknown</td>\n",
              "      <td>0</td>\n",
              "      <td>1</td>\n",
              "    </tr>\n",
              "    <tr>\n",
              "      <th>4</th>\n",
              "      <td>453</td>\n",
              "      <td>TCP</td>\n",
              "      <td>5</td>\n",
              "      <td>532.540888</td>\n",
              "      <td>AES</td>\n",
              "      <td>0.054874</td>\n",
              "      <td>1</td>\n",
              "      <td>Firefox</td>\n",
              "      <td>0</td>\n",
              "      <td>0</td>\n",
              "    </tr>\n",
              "    <tr>\n",
              "      <th>...</th>\n",
              "      <td>...</td>\n",
              "      <td>...</td>\n",
              "      <td>...</td>\n",
              "      <td>...</td>\n",
              "      <td>...</td>\n",
              "      <td>...</td>\n",
              "      <td>...</td>\n",
              "      <td>...</td>\n",
              "      <td>...</td>\n",
              "      <td>...</td>\n",
              "    </tr>\n",
              "    <tr>\n",
              "      <th>8802</th>\n",
              "      <td>194</td>\n",
              "      <td>ICMP</td>\n",
              "      <td>3</td>\n",
              "      <td>226.049889</td>\n",
              "      <td>AES</td>\n",
              "      <td>0.517737</td>\n",
              "      <td>3</td>\n",
              "      <td>Chrome</td>\n",
              "      <td>0</td>\n",
              "      <td>1</td>\n",
              "    </tr>\n",
              "    <tr>\n",
              "      <th>8803</th>\n",
              "      <td>380</td>\n",
              "      <td>TCP</td>\n",
              "      <td>3</td>\n",
              "      <td>182.848475</td>\n",
              "      <td>Not Encrypted</td>\n",
              "      <td>0.408485</td>\n",
              "      <td>0</td>\n",
              "      <td>Chrome</td>\n",
              "      <td>0</td>\n",
              "      <td>0</td>\n",
              "    </tr>\n",
              "    <tr>\n",
              "      <th>8804</th>\n",
              "      <td>664</td>\n",
              "      <td>TCP</td>\n",
              "      <td>5</td>\n",
              "      <td>35.170248</td>\n",
              "      <td>AES</td>\n",
              "      <td>0.359200</td>\n",
              "      <td>1</td>\n",
              "      <td>Firefox</td>\n",
              "      <td>0</td>\n",
              "      <td>0</td>\n",
              "    </tr>\n",
              "    <tr>\n",
              "      <th>8805</th>\n",
              "      <td>406</td>\n",
              "      <td>TCP</td>\n",
              "      <td>4</td>\n",
              "      <td>86.664703</td>\n",
              "      <td>AES</td>\n",
              "      <td>0.537417</td>\n",
              "      <td>1</td>\n",
              "      <td>Chrome</td>\n",
              "      <td>1</td>\n",
              "      <td>0</td>\n",
              "    </tr>\n",
              "    <tr>\n",
              "      <th>8806</th>\n",
              "      <td>340</td>\n",
              "      <td>TCP</td>\n",
              "      <td>6</td>\n",
              "      <td>86.876744</td>\n",
              "      <td>Not Encrypted</td>\n",
              "      <td>0.277069</td>\n",
              "      <td>4</td>\n",
              "      <td>Chrome</td>\n",
              "      <td>1</td>\n",
              "      <td>1</td>\n",
              "    </tr>\n",
              "  </tbody>\n",
              "</table>\n",
              "<p>8807 rows × 10 columns</p>\n",
              "</div>"
            ],
            "text/plain": [
              "      network_packet_size protocol_type  login_attempts  session_duration  \\\n",
              "0                     599           TCP               4        492.983263   \n",
              "1                     472           TCP               3       1557.996461   \n",
              "2                     629           TCP               3         75.044262   \n",
              "3                     804           UDP               4        601.248835   \n",
              "4                     453           TCP               5        532.540888   \n",
              "...                   ...           ...             ...               ...   \n",
              "8802                  194          ICMP               3        226.049889   \n",
              "8803                  380           TCP               3        182.848475   \n",
              "8804                  664           TCP               5         35.170248   \n",
              "8805                  406           TCP               4         86.664703   \n",
              "8806                  340           TCP               6         86.876744   \n",
              "\n",
              "     encryption_used  ip_reputation_score  failed_logins browser_type  \\\n",
              "0                DES             0.606818              1         Edge   \n",
              "1                DES             0.301569              0      Firefox   \n",
              "2                DES             0.739164              2       Chrome   \n",
              "3                DES             0.123267              0      Unknown   \n",
              "4                AES             0.054874              1      Firefox   \n",
              "...              ...                  ...            ...          ...   \n",
              "8802             AES             0.517737              3       Chrome   \n",
              "8803   Not Encrypted             0.408485              0       Chrome   \n",
              "8804             AES             0.359200              1      Firefox   \n",
              "8805             AES             0.537417              1       Chrome   \n",
              "8806   Not Encrypted             0.277069              4       Chrome   \n",
              "\n",
              "      unusual_time_access  attack_detected  \n",
              "0                       0                1  \n",
              "1                       0                0  \n",
              "2                       0                1  \n",
              "3                       0                1  \n",
              "4                       0                0  \n",
              "...                   ...              ...  \n",
              "8802                    0                1  \n",
              "8803                    0                0  \n",
              "8804                    0                0  \n",
              "8805                    1                0  \n",
              "8806                    1                1  \n",
              "\n",
              "[8807 rows x 10 columns]"
            ]
          },
          "execution_count": 26,
          "metadata": {},
          "output_type": "execute_result"
        }
      ],
      "source": [
        "df"
      ]
    },
    {
      "cell_type": "code",
      "execution_count": 27,
      "id": "de1bc9b0",
      "metadata": {
        "id": "de1bc9b0"
      },
      "outputs": [],
      "source": [
        "#volvemos a separar las variables con el df actualizado\n",
        "vars_numeric = pd.DataFrame()\n",
        "vars_categority = pd.DataFrame()\n",
        "for i in column_names:\n",
        "  if i != 'session_id':\n",
        "    if df[i].dtype != 'object' and i != 'attack_detected' and i != 'unusual_time_access' and i != 'failed_logins' and i != 'login_attempts':\n",
        "      vars_numeric[i] = df[i]\n",
        "    else:\n",
        "      vars_categority[i] = df[i]"
      ]
    },
    {
      "cell_type": "code",
      "execution_count": 28,
      "id": "743224e3",
      "metadata": {
        "colab": {
          "base_uri": "https://localhost:8080/"
        },
        "id": "743224e3",
        "outputId": "8a91ac17-f7cd-497b-fba8-0a3f06e37a8f"
      },
      "outputs": [
        {
          "data": {
            "text/plain": [
              "(8807, 10)"
            ]
          },
          "execution_count": 28,
          "metadata": {},
          "output_type": "execute_result"
        }
      ],
      "source": [
        "df.shape"
      ]
    },
    {
      "cell_type": "markdown",
      "id": "49ee3431",
      "metadata": {
        "id": "49ee3431"
      },
      "source": [
        "Transformacion de datos"
      ]
    },
    {
      "cell_type": "markdown",
      "id": "14b0a97a",
      "metadata": {
        "id": "14b0a97a"
      },
      "source": [
        "Pasamos encryption_used a valores numericos"
      ]
    },
    {
      "cell_type": "code",
      "execution_count": 29,
      "id": "416d5055",
      "metadata": {
        "id": "416d5055"
      },
      "outputs": [],
      "source": [
        "encryption_used_map = {'AES':2, 'DES':1, 'Not Encrypted':0}\n",
        "df['encryption_used'] = df['encryption_used'].map(encryption_used_map)\n",
        "\n"
      ]
    },
    {
      "cell_type": "code",
      "execution_count": 30,
      "id": "1780a4f0",
      "metadata": {
        "colab": {
          "base_uri": "https://localhost:8080/",
          "height": 363
        },
        "id": "1780a4f0",
        "outputId": "6afb8d04-483f-4104-8780-83ed0bf47fb8"
      },
      "outputs": [
        {
          "data": {
            "text/html": [
              "<div>\n",
              "<style scoped>\n",
              "    .dataframe tbody tr th:only-of-type {\n",
              "        vertical-align: middle;\n",
              "    }\n",
              "\n",
              "    .dataframe tbody tr th {\n",
              "        vertical-align: top;\n",
              "    }\n",
              "\n",
              "    .dataframe thead th {\n",
              "        text-align: right;\n",
              "    }\n",
              "</style>\n",
              "<table border=\"1\" class=\"dataframe\">\n",
              "  <thead>\n",
              "    <tr style=\"text-align: right;\">\n",
              "      <th></th>\n",
              "      <th>network_packet_size</th>\n",
              "      <th>protocol_type</th>\n",
              "      <th>login_attempts</th>\n",
              "      <th>session_duration</th>\n",
              "      <th>encryption_used</th>\n",
              "      <th>ip_reputation_score</th>\n",
              "      <th>failed_logins</th>\n",
              "      <th>browser_type</th>\n",
              "      <th>unusual_time_access</th>\n",
              "      <th>attack_detected</th>\n",
              "    </tr>\n",
              "  </thead>\n",
              "  <tbody>\n",
              "    <tr>\n",
              "      <th>0</th>\n",
              "      <td>599</td>\n",
              "      <td>TCP</td>\n",
              "      <td>4</td>\n",
              "      <td>492.983263</td>\n",
              "      <td>1</td>\n",
              "      <td>0.606818</td>\n",
              "      <td>1</td>\n",
              "      <td>Edge</td>\n",
              "      <td>0</td>\n",
              "      <td>1</td>\n",
              "    </tr>\n",
              "    <tr>\n",
              "      <th>1</th>\n",
              "      <td>472</td>\n",
              "      <td>TCP</td>\n",
              "      <td>3</td>\n",
              "      <td>1557.996461</td>\n",
              "      <td>1</td>\n",
              "      <td>0.301569</td>\n",
              "      <td>0</td>\n",
              "      <td>Firefox</td>\n",
              "      <td>0</td>\n",
              "      <td>0</td>\n",
              "    </tr>\n",
              "    <tr>\n",
              "      <th>2</th>\n",
              "      <td>629</td>\n",
              "      <td>TCP</td>\n",
              "      <td>3</td>\n",
              "      <td>75.044262</td>\n",
              "      <td>1</td>\n",
              "      <td>0.739164</td>\n",
              "      <td>2</td>\n",
              "      <td>Chrome</td>\n",
              "      <td>0</td>\n",
              "      <td>1</td>\n",
              "    </tr>\n",
              "    <tr>\n",
              "      <th>3</th>\n",
              "      <td>804</td>\n",
              "      <td>UDP</td>\n",
              "      <td>4</td>\n",
              "      <td>601.248835</td>\n",
              "      <td>1</td>\n",
              "      <td>0.123267</td>\n",
              "      <td>0</td>\n",
              "      <td>Unknown</td>\n",
              "      <td>0</td>\n",
              "      <td>1</td>\n",
              "    </tr>\n",
              "    <tr>\n",
              "      <th>4</th>\n",
              "      <td>453</td>\n",
              "      <td>TCP</td>\n",
              "      <td>5</td>\n",
              "      <td>532.540888</td>\n",
              "      <td>2</td>\n",
              "      <td>0.054874</td>\n",
              "      <td>1</td>\n",
              "      <td>Firefox</td>\n",
              "      <td>0</td>\n",
              "      <td>0</td>\n",
              "    </tr>\n",
              "    <tr>\n",
              "      <th>5</th>\n",
              "      <td>453</td>\n",
              "      <td>UDP</td>\n",
              "      <td>5</td>\n",
              "      <td>380.471550</td>\n",
              "      <td>2</td>\n",
              "      <td>0.422486</td>\n",
              "      <td>2</td>\n",
              "      <td>Chrome</td>\n",
              "      <td>1</td>\n",
              "      <td>0</td>\n",
              "    </tr>\n",
              "    <tr>\n",
              "      <th>6</th>\n",
              "      <td>815</td>\n",
              "      <td>ICMP</td>\n",
              "      <td>4</td>\n",
              "      <td>728.107165</td>\n",
              "      <td>2</td>\n",
              "      <td>0.413772</td>\n",
              "      <td>1</td>\n",
              "      <td>Chrome</td>\n",
              "      <td>0</td>\n",
              "      <td>1</td>\n",
              "    </tr>\n",
              "    <tr>\n",
              "      <th>7</th>\n",
              "      <td>653</td>\n",
              "      <td>TCP</td>\n",
              "      <td>3</td>\n",
              "      <td>12.599906</td>\n",
              "      <td>1</td>\n",
              "      <td>0.097719</td>\n",
              "      <td>3</td>\n",
              "      <td>Chrome</td>\n",
              "      <td>1</td>\n",
              "      <td>1</td>\n",
              "    </tr>\n",
              "    <tr>\n",
              "      <th>8</th>\n",
              "      <td>406</td>\n",
              "      <td>TCP</td>\n",
              "      <td>2</td>\n",
              "      <td>542.558895</td>\n",
              "      <td>0</td>\n",
              "      <td>0.294580</td>\n",
              "      <td>0</td>\n",
              "      <td>Chrome</td>\n",
              "      <td>1</td>\n",
              "      <td>0</td>\n",
              "    </tr>\n",
              "    <tr>\n",
              "      <th>9</th>\n",
              "      <td>608</td>\n",
              "      <td>UDP</td>\n",
              "      <td>6</td>\n",
              "      <td>531.944107</td>\n",
              "      <td>0</td>\n",
              "      <td>0.424117</td>\n",
              "      <td>1</td>\n",
              "      <td>Chrome</td>\n",
              "      <td>0</td>\n",
              "      <td>0</td>\n",
              "    </tr>\n",
              "  </tbody>\n",
              "</table>\n",
              "</div>"
            ],
            "text/plain": [
              "   network_packet_size protocol_type  login_attempts  session_duration  \\\n",
              "0                  599           TCP               4        492.983263   \n",
              "1                  472           TCP               3       1557.996461   \n",
              "2                  629           TCP               3         75.044262   \n",
              "3                  804           UDP               4        601.248835   \n",
              "4                  453           TCP               5        532.540888   \n",
              "5                  453           UDP               5        380.471550   \n",
              "6                  815          ICMP               4        728.107165   \n",
              "7                  653           TCP               3         12.599906   \n",
              "8                  406           TCP               2        542.558895   \n",
              "9                  608           UDP               6        531.944107   \n",
              "\n",
              "   encryption_used  ip_reputation_score  failed_logins browser_type  \\\n",
              "0                1             0.606818              1         Edge   \n",
              "1                1             0.301569              0      Firefox   \n",
              "2                1             0.739164              2       Chrome   \n",
              "3                1             0.123267              0      Unknown   \n",
              "4                2             0.054874              1      Firefox   \n",
              "5                2             0.422486              2       Chrome   \n",
              "6                2             0.413772              1       Chrome   \n",
              "7                1             0.097719              3       Chrome   \n",
              "8                0             0.294580              0       Chrome   \n",
              "9                0             0.424117              1       Chrome   \n",
              "\n",
              "   unusual_time_access  attack_detected  \n",
              "0                    0                1  \n",
              "1                    0                0  \n",
              "2                    0                1  \n",
              "3                    0                1  \n",
              "4                    0                0  \n",
              "5                    1                0  \n",
              "6                    0                1  \n",
              "7                    1                1  \n",
              "8                    1                0  \n",
              "9                    0                0  "
            ]
          },
          "execution_count": 30,
          "metadata": {},
          "output_type": "execute_result"
        }
      ],
      "source": [
        "df.head(10)"
      ]
    },
    {
      "cell_type": "markdown",
      "id": "49ebef15",
      "metadata": {
        "id": "49ebef15"
      },
      "source": [
        "Pasamos protocol_type a valores numericos"
      ]
    },
    {
      "cell_type": "code",
      "execution_count": 31,
      "id": "80121d04",
      "metadata": {
        "id": "80121d04"
      },
      "outputs": [],
      "source": [
        "protocol_type_map = {'TCP':2, 'UDP':1, 'ICMP':0}\n",
        "df['protocol_type'] = df['protocol_type'].map(protocol_type_map)"
      ]
    },
    {
      "cell_type": "code",
      "execution_count": 32,
      "id": "978d8ef1",
      "metadata": {
        "colab": {
          "base_uri": "https://localhost:8080/",
          "height": 363
        },
        "id": "978d8ef1",
        "outputId": "1e69c17d-9150-4a71-fcb8-f06d23b54e2c"
      },
      "outputs": [
        {
          "data": {
            "text/html": [
              "<div>\n",
              "<style scoped>\n",
              "    .dataframe tbody tr th:only-of-type {\n",
              "        vertical-align: middle;\n",
              "    }\n",
              "\n",
              "    .dataframe tbody tr th {\n",
              "        vertical-align: top;\n",
              "    }\n",
              "\n",
              "    .dataframe thead th {\n",
              "        text-align: right;\n",
              "    }\n",
              "</style>\n",
              "<table border=\"1\" class=\"dataframe\">\n",
              "  <thead>\n",
              "    <tr style=\"text-align: right;\">\n",
              "      <th></th>\n",
              "      <th>network_packet_size</th>\n",
              "      <th>protocol_type</th>\n",
              "      <th>login_attempts</th>\n",
              "      <th>session_duration</th>\n",
              "      <th>encryption_used</th>\n",
              "      <th>ip_reputation_score</th>\n",
              "      <th>failed_logins</th>\n",
              "      <th>browser_type</th>\n",
              "      <th>unusual_time_access</th>\n",
              "      <th>attack_detected</th>\n",
              "    </tr>\n",
              "  </thead>\n",
              "  <tbody>\n",
              "    <tr>\n",
              "      <th>0</th>\n",
              "      <td>599</td>\n",
              "      <td>2</td>\n",
              "      <td>4</td>\n",
              "      <td>492.983263</td>\n",
              "      <td>1</td>\n",
              "      <td>0.606818</td>\n",
              "      <td>1</td>\n",
              "      <td>Edge</td>\n",
              "      <td>0</td>\n",
              "      <td>1</td>\n",
              "    </tr>\n",
              "    <tr>\n",
              "      <th>1</th>\n",
              "      <td>472</td>\n",
              "      <td>2</td>\n",
              "      <td>3</td>\n",
              "      <td>1557.996461</td>\n",
              "      <td>1</td>\n",
              "      <td>0.301569</td>\n",
              "      <td>0</td>\n",
              "      <td>Firefox</td>\n",
              "      <td>0</td>\n",
              "      <td>0</td>\n",
              "    </tr>\n",
              "    <tr>\n",
              "      <th>2</th>\n",
              "      <td>629</td>\n",
              "      <td>2</td>\n",
              "      <td>3</td>\n",
              "      <td>75.044262</td>\n",
              "      <td>1</td>\n",
              "      <td>0.739164</td>\n",
              "      <td>2</td>\n",
              "      <td>Chrome</td>\n",
              "      <td>0</td>\n",
              "      <td>1</td>\n",
              "    </tr>\n",
              "    <tr>\n",
              "      <th>3</th>\n",
              "      <td>804</td>\n",
              "      <td>1</td>\n",
              "      <td>4</td>\n",
              "      <td>601.248835</td>\n",
              "      <td>1</td>\n",
              "      <td>0.123267</td>\n",
              "      <td>0</td>\n",
              "      <td>Unknown</td>\n",
              "      <td>0</td>\n",
              "      <td>1</td>\n",
              "    </tr>\n",
              "    <tr>\n",
              "      <th>4</th>\n",
              "      <td>453</td>\n",
              "      <td>2</td>\n",
              "      <td>5</td>\n",
              "      <td>532.540888</td>\n",
              "      <td>2</td>\n",
              "      <td>0.054874</td>\n",
              "      <td>1</td>\n",
              "      <td>Firefox</td>\n",
              "      <td>0</td>\n",
              "      <td>0</td>\n",
              "    </tr>\n",
              "    <tr>\n",
              "      <th>5</th>\n",
              "      <td>453</td>\n",
              "      <td>1</td>\n",
              "      <td>5</td>\n",
              "      <td>380.471550</td>\n",
              "      <td>2</td>\n",
              "      <td>0.422486</td>\n",
              "      <td>2</td>\n",
              "      <td>Chrome</td>\n",
              "      <td>1</td>\n",
              "      <td>0</td>\n",
              "    </tr>\n",
              "    <tr>\n",
              "      <th>6</th>\n",
              "      <td>815</td>\n",
              "      <td>0</td>\n",
              "      <td>4</td>\n",
              "      <td>728.107165</td>\n",
              "      <td>2</td>\n",
              "      <td>0.413772</td>\n",
              "      <td>1</td>\n",
              "      <td>Chrome</td>\n",
              "      <td>0</td>\n",
              "      <td>1</td>\n",
              "    </tr>\n",
              "    <tr>\n",
              "      <th>7</th>\n",
              "      <td>653</td>\n",
              "      <td>2</td>\n",
              "      <td>3</td>\n",
              "      <td>12.599906</td>\n",
              "      <td>1</td>\n",
              "      <td>0.097719</td>\n",
              "      <td>3</td>\n",
              "      <td>Chrome</td>\n",
              "      <td>1</td>\n",
              "      <td>1</td>\n",
              "    </tr>\n",
              "    <tr>\n",
              "      <th>8</th>\n",
              "      <td>406</td>\n",
              "      <td>2</td>\n",
              "      <td>2</td>\n",
              "      <td>542.558895</td>\n",
              "      <td>0</td>\n",
              "      <td>0.294580</td>\n",
              "      <td>0</td>\n",
              "      <td>Chrome</td>\n",
              "      <td>1</td>\n",
              "      <td>0</td>\n",
              "    </tr>\n",
              "    <tr>\n",
              "      <th>9</th>\n",
              "      <td>608</td>\n",
              "      <td>1</td>\n",
              "      <td>6</td>\n",
              "      <td>531.944107</td>\n",
              "      <td>0</td>\n",
              "      <td>0.424117</td>\n",
              "      <td>1</td>\n",
              "      <td>Chrome</td>\n",
              "      <td>0</td>\n",
              "      <td>0</td>\n",
              "    </tr>\n",
              "  </tbody>\n",
              "</table>\n",
              "</div>"
            ],
            "text/plain": [
              "   network_packet_size  protocol_type  login_attempts  session_duration  \\\n",
              "0                  599              2               4        492.983263   \n",
              "1                  472              2               3       1557.996461   \n",
              "2                  629              2               3         75.044262   \n",
              "3                  804              1               4        601.248835   \n",
              "4                  453              2               5        532.540888   \n",
              "5                  453              1               5        380.471550   \n",
              "6                  815              0               4        728.107165   \n",
              "7                  653              2               3         12.599906   \n",
              "8                  406              2               2        542.558895   \n",
              "9                  608              1               6        531.944107   \n",
              "\n",
              "   encryption_used  ip_reputation_score  failed_logins browser_type  \\\n",
              "0                1             0.606818              1         Edge   \n",
              "1                1             0.301569              0      Firefox   \n",
              "2                1             0.739164              2       Chrome   \n",
              "3                1             0.123267              0      Unknown   \n",
              "4                2             0.054874              1      Firefox   \n",
              "5                2             0.422486              2       Chrome   \n",
              "6                2             0.413772              1       Chrome   \n",
              "7                1             0.097719              3       Chrome   \n",
              "8                0             0.294580              0       Chrome   \n",
              "9                0             0.424117              1       Chrome   \n",
              "\n",
              "   unusual_time_access  attack_detected  \n",
              "0                    0                1  \n",
              "1                    0                0  \n",
              "2                    0                1  \n",
              "3                    0                1  \n",
              "4                    0                0  \n",
              "5                    1                0  \n",
              "6                    0                1  \n",
              "7                    1                1  \n",
              "8                    1                0  \n",
              "9                    0                0  "
            ]
          },
          "execution_count": 32,
          "metadata": {},
          "output_type": "execute_result"
        }
      ],
      "source": [
        "df.head(10)"
      ]
    },
    {
      "cell_type": "code",
      "execution_count": 33,
      "id": "d178dc55",
      "metadata": {
        "id": "d178dc55"
      },
      "outputs": [],
      "source": [
        "browser_type_map = {'Chrome':4, 'Firefox':3, 'Edge':2, 'Unknown':1, 'Safari':0}\n",
        "df['browser_type'] = df['browser_type'].map(browser_type_map)"
      ]
    },
    {
      "cell_type": "code",
      "execution_count": 34,
      "id": "aa9f3bef",
      "metadata": {
        "colab": {
          "base_uri": "https://localhost:8080/",
          "height": 363
        },
        "id": "aa9f3bef",
        "outputId": "3fb1b175-c779-4340-abf2-52d9894b8bc2"
      },
      "outputs": [
        {
          "data": {
            "text/html": [
              "<div>\n",
              "<style scoped>\n",
              "    .dataframe tbody tr th:only-of-type {\n",
              "        vertical-align: middle;\n",
              "    }\n",
              "\n",
              "    .dataframe tbody tr th {\n",
              "        vertical-align: top;\n",
              "    }\n",
              "\n",
              "    .dataframe thead th {\n",
              "        text-align: right;\n",
              "    }\n",
              "</style>\n",
              "<table border=\"1\" class=\"dataframe\">\n",
              "  <thead>\n",
              "    <tr style=\"text-align: right;\">\n",
              "      <th></th>\n",
              "      <th>network_packet_size</th>\n",
              "      <th>protocol_type</th>\n",
              "      <th>login_attempts</th>\n",
              "      <th>session_duration</th>\n",
              "      <th>encryption_used</th>\n",
              "      <th>ip_reputation_score</th>\n",
              "      <th>failed_logins</th>\n",
              "      <th>browser_type</th>\n",
              "      <th>unusual_time_access</th>\n",
              "      <th>attack_detected</th>\n",
              "    </tr>\n",
              "  </thead>\n",
              "  <tbody>\n",
              "    <tr>\n",
              "      <th>0</th>\n",
              "      <td>599</td>\n",
              "      <td>2</td>\n",
              "      <td>4</td>\n",
              "      <td>492.983263</td>\n",
              "      <td>1</td>\n",
              "      <td>0.606818</td>\n",
              "      <td>1</td>\n",
              "      <td>2</td>\n",
              "      <td>0</td>\n",
              "      <td>1</td>\n",
              "    </tr>\n",
              "    <tr>\n",
              "      <th>1</th>\n",
              "      <td>472</td>\n",
              "      <td>2</td>\n",
              "      <td>3</td>\n",
              "      <td>1557.996461</td>\n",
              "      <td>1</td>\n",
              "      <td>0.301569</td>\n",
              "      <td>0</td>\n",
              "      <td>3</td>\n",
              "      <td>0</td>\n",
              "      <td>0</td>\n",
              "    </tr>\n",
              "    <tr>\n",
              "      <th>2</th>\n",
              "      <td>629</td>\n",
              "      <td>2</td>\n",
              "      <td>3</td>\n",
              "      <td>75.044262</td>\n",
              "      <td>1</td>\n",
              "      <td>0.739164</td>\n",
              "      <td>2</td>\n",
              "      <td>4</td>\n",
              "      <td>0</td>\n",
              "      <td>1</td>\n",
              "    </tr>\n",
              "    <tr>\n",
              "      <th>3</th>\n",
              "      <td>804</td>\n",
              "      <td>1</td>\n",
              "      <td>4</td>\n",
              "      <td>601.248835</td>\n",
              "      <td>1</td>\n",
              "      <td>0.123267</td>\n",
              "      <td>0</td>\n",
              "      <td>1</td>\n",
              "      <td>0</td>\n",
              "      <td>1</td>\n",
              "    </tr>\n",
              "    <tr>\n",
              "      <th>4</th>\n",
              "      <td>453</td>\n",
              "      <td>2</td>\n",
              "      <td>5</td>\n",
              "      <td>532.540888</td>\n",
              "      <td>2</td>\n",
              "      <td>0.054874</td>\n",
              "      <td>1</td>\n",
              "      <td>3</td>\n",
              "      <td>0</td>\n",
              "      <td>0</td>\n",
              "    </tr>\n",
              "    <tr>\n",
              "      <th>5</th>\n",
              "      <td>453</td>\n",
              "      <td>1</td>\n",
              "      <td>5</td>\n",
              "      <td>380.471550</td>\n",
              "      <td>2</td>\n",
              "      <td>0.422486</td>\n",
              "      <td>2</td>\n",
              "      <td>4</td>\n",
              "      <td>1</td>\n",
              "      <td>0</td>\n",
              "    </tr>\n",
              "    <tr>\n",
              "      <th>6</th>\n",
              "      <td>815</td>\n",
              "      <td>0</td>\n",
              "      <td>4</td>\n",
              "      <td>728.107165</td>\n",
              "      <td>2</td>\n",
              "      <td>0.413772</td>\n",
              "      <td>1</td>\n",
              "      <td>4</td>\n",
              "      <td>0</td>\n",
              "      <td>1</td>\n",
              "    </tr>\n",
              "    <tr>\n",
              "      <th>7</th>\n",
              "      <td>653</td>\n",
              "      <td>2</td>\n",
              "      <td>3</td>\n",
              "      <td>12.599906</td>\n",
              "      <td>1</td>\n",
              "      <td>0.097719</td>\n",
              "      <td>3</td>\n",
              "      <td>4</td>\n",
              "      <td>1</td>\n",
              "      <td>1</td>\n",
              "    </tr>\n",
              "    <tr>\n",
              "      <th>8</th>\n",
              "      <td>406</td>\n",
              "      <td>2</td>\n",
              "      <td>2</td>\n",
              "      <td>542.558895</td>\n",
              "      <td>0</td>\n",
              "      <td>0.294580</td>\n",
              "      <td>0</td>\n",
              "      <td>4</td>\n",
              "      <td>1</td>\n",
              "      <td>0</td>\n",
              "    </tr>\n",
              "    <tr>\n",
              "      <th>9</th>\n",
              "      <td>608</td>\n",
              "      <td>1</td>\n",
              "      <td>6</td>\n",
              "      <td>531.944107</td>\n",
              "      <td>0</td>\n",
              "      <td>0.424117</td>\n",
              "      <td>1</td>\n",
              "      <td>4</td>\n",
              "      <td>0</td>\n",
              "      <td>0</td>\n",
              "    </tr>\n",
              "  </tbody>\n",
              "</table>\n",
              "</div>"
            ],
            "text/plain": [
              "   network_packet_size  protocol_type  login_attempts  session_duration  \\\n",
              "0                  599              2               4        492.983263   \n",
              "1                  472              2               3       1557.996461   \n",
              "2                  629              2               3         75.044262   \n",
              "3                  804              1               4        601.248835   \n",
              "4                  453              2               5        532.540888   \n",
              "5                  453              1               5        380.471550   \n",
              "6                  815              0               4        728.107165   \n",
              "7                  653              2               3         12.599906   \n",
              "8                  406              2               2        542.558895   \n",
              "9                  608              1               6        531.944107   \n",
              "\n",
              "   encryption_used  ip_reputation_score  failed_logins  browser_type  \\\n",
              "0                1             0.606818              1             2   \n",
              "1                1             0.301569              0             3   \n",
              "2                1             0.739164              2             4   \n",
              "3                1             0.123267              0             1   \n",
              "4                2             0.054874              1             3   \n",
              "5                2             0.422486              2             4   \n",
              "6                2             0.413772              1             4   \n",
              "7                1             0.097719              3             4   \n",
              "8                0             0.294580              0             4   \n",
              "9                0             0.424117              1             4   \n",
              "\n",
              "   unusual_time_access  attack_detected  \n",
              "0                    0                1  \n",
              "1                    0                0  \n",
              "2                    0                1  \n",
              "3                    0                1  \n",
              "4                    0                0  \n",
              "5                    1                0  \n",
              "6                    0                1  \n",
              "7                    1                1  \n",
              "8                    1                0  \n",
              "9                    0                0  "
            ]
          },
          "execution_count": 34,
          "metadata": {},
          "output_type": "execute_result"
        }
      ],
      "source": [
        "df.head(10)"
      ]
    },
    {
      "cell_type": "markdown",
      "id": "694832c9",
      "metadata": {
        "id": "694832c9"
      },
      "source": [
        "Normalizacion"
      ]
    },
    {
      "cell_type": "code",
      "execution_count": 35,
      "id": "edcae453",
      "metadata": {
        "colab": {
          "base_uri": "https://localhost:8080/",
          "height": 424
        },
        "id": "edcae453",
        "outputId": "eb9b26d5-727b-4c66-a288-2158a05a4f47"
      },
      "outputs": [
        {
          "data": {
            "text/html": [
              "<div>\n",
              "<style scoped>\n",
              "    .dataframe tbody tr th:only-of-type {\n",
              "        vertical-align: middle;\n",
              "    }\n",
              "\n",
              "    .dataframe tbody tr th {\n",
              "        vertical-align: top;\n",
              "    }\n",
              "\n",
              "    .dataframe thead th {\n",
              "        text-align: right;\n",
              "    }\n",
              "</style>\n",
              "<table border=\"1\" class=\"dataframe\">\n",
              "  <thead>\n",
              "    <tr style=\"text-align: right;\">\n",
              "      <th></th>\n",
              "      <th>network_packet_size</th>\n",
              "      <th>session_duration</th>\n",
              "      <th>ip_reputation_score</th>\n",
              "    </tr>\n",
              "  </thead>\n",
              "  <tbody>\n",
              "    <tr>\n",
              "      <th>0</th>\n",
              "      <td>599</td>\n",
              "      <td>492.983263</td>\n",
              "      <td>0.606818</td>\n",
              "    </tr>\n",
              "    <tr>\n",
              "      <th>1</th>\n",
              "      <td>472</td>\n",
              "      <td>1557.996461</td>\n",
              "      <td>0.301569</td>\n",
              "    </tr>\n",
              "    <tr>\n",
              "      <th>2</th>\n",
              "      <td>629</td>\n",
              "      <td>75.044262</td>\n",
              "      <td>0.739164</td>\n",
              "    </tr>\n",
              "    <tr>\n",
              "      <th>3</th>\n",
              "      <td>804</td>\n",
              "      <td>601.248835</td>\n",
              "      <td>0.123267</td>\n",
              "    </tr>\n",
              "    <tr>\n",
              "      <th>4</th>\n",
              "      <td>453</td>\n",
              "      <td>532.540888</td>\n",
              "      <td>0.054874</td>\n",
              "    </tr>\n",
              "    <tr>\n",
              "      <th>...</th>\n",
              "      <td>...</td>\n",
              "      <td>...</td>\n",
              "      <td>...</td>\n",
              "    </tr>\n",
              "    <tr>\n",
              "      <th>8802</th>\n",
              "      <td>194</td>\n",
              "      <td>226.049889</td>\n",
              "      <td>0.517737</td>\n",
              "    </tr>\n",
              "    <tr>\n",
              "      <th>8803</th>\n",
              "      <td>380</td>\n",
              "      <td>182.848475</td>\n",
              "      <td>0.408485</td>\n",
              "    </tr>\n",
              "    <tr>\n",
              "      <th>8804</th>\n",
              "      <td>664</td>\n",
              "      <td>35.170248</td>\n",
              "      <td>0.359200</td>\n",
              "    </tr>\n",
              "    <tr>\n",
              "      <th>8805</th>\n",
              "      <td>406</td>\n",
              "      <td>86.664703</td>\n",
              "      <td>0.537417</td>\n",
              "    </tr>\n",
              "    <tr>\n",
              "      <th>8806</th>\n",
              "      <td>340</td>\n",
              "      <td>86.876744</td>\n",
              "      <td>0.277069</td>\n",
              "    </tr>\n",
              "  </tbody>\n",
              "</table>\n",
              "<p>8807 rows × 3 columns</p>\n",
              "</div>"
            ],
            "text/plain": [
              "      network_packet_size  session_duration  ip_reputation_score\n",
              "0                     599        492.983263             0.606818\n",
              "1                     472       1557.996461             0.301569\n",
              "2                     629         75.044262             0.739164\n",
              "3                     804        601.248835             0.123267\n",
              "4                     453        532.540888             0.054874\n",
              "...                   ...               ...                  ...\n",
              "8802                  194        226.049889             0.517737\n",
              "8803                  380        182.848475             0.408485\n",
              "8804                  664         35.170248             0.359200\n",
              "8805                  406         86.664703             0.537417\n",
              "8806                  340         86.876744             0.277069\n",
              "\n",
              "[8807 rows x 3 columns]"
            ]
          },
          "execution_count": 35,
          "metadata": {},
          "output_type": "execute_result"
        }
      ],
      "source": [
        "vars_numeric"
      ]
    },
    {
      "cell_type": "code",
      "execution_count": 36,
      "id": "e1e2c149",
      "metadata": {
        "id": "e1e2c149"
      },
      "outputs": [],
      "source": [
        "from sklearn.preprocessing import MinMaxScaler\n",
        "scaler = MinMaxScaler()\n",
        "scaled_df = scaler.fit_transform(vars_numeric)\n",
        "vars_numeric_norm = pd.DataFrame(scaled_df)"
      ]
    },
    {
      "cell_type": "code",
      "execution_count": 37,
      "id": "ecb5713a",
      "metadata": {
        "colab": {
          "base_uri": "https://localhost:8080/",
          "height": 424
        },
        "id": "ecb5713a",
        "outputId": "3abec744-6d05-40c6-a86b-16c940f6586f"
      },
      "outputs": [
        {
          "data": {
            "text/html": [
              "<div>\n",
              "<style scoped>\n",
              "    .dataframe tbody tr th:only-of-type {\n",
              "        vertical-align: middle;\n",
              "    }\n",
              "\n",
              "    .dataframe tbody tr th {\n",
              "        vertical-align: top;\n",
              "    }\n",
              "\n",
              "    .dataframe thead th {\n",
              "        text-align: right;\n",
              "    }\n",
              "</style>\n",
              "<table border=\"1\" class=\"dataframe\">\n",
              "  <thead>\n",
              "    <tr style=\"text-align: right;\">\n",
              "      <th></th>\n",
              "      <th>network_packet_size</th>\n",
              "      <th>session_duration</th>\n",
              "      <th>ip_reputation_score</th>\n",
              "    </tr>\n",
              "  </thead>\n",
              "  <tbody>\n",
              "    <tr>\n",
              "      <th>0</th>\n",
              "      <td>0.438165</td>\n",
              "      <td>0.068497</td>\n",
              "      <td>0.655587</td>\n",
              "    </tr>\n",
              "    <tr>\n",
              "      <th>1</th>\n",
              "      <td>0.334152</td>\n",
              "      <td>0.216623</td>\n",
              "      <td>0.324443</td>\n",
              "    </tr>\n",
              "    <tr>\n",
              "      <th>2</th>\n",
              "      <td>0.462735</td>\n",
              "      <td>0.010368</td>\n",
              "      <td>0.799160</td>\n",
              "    </tr>\n",
              "    <tr>\n",
              "      <th>3</th>\n",
              "      <td>0.606061</td>\n",
              "      <td>0.083555</td>\n",
              "      <td>0.131015</td>\n",
              "    </tr>\n",
              "    <tr>\n",
              "      <th>4</th>\n",
              "      <td>0.318591</td>\n",
              "      <td>0.073998</td>\n",
              "      <td>0.056820</td>\n",
              "    </tr>\n",
              "    <tr>\n",
              "      <th>...</th>\n",
              "      <td>...</td>\n",
              "      <td>...</td>\n",
              "      <td>...</td>\n",
              "    </tr>\n",
              "    <tr>\n",
              "      <th>8802</th>\n",
              "      <td>0.106470</td>\n",
              "      <td>0.031370</td>\n",
              "      <td>0.558949</td>\n",
              "    </tr>\n",
              "    <tr>\n",
              "      <th>8803</th>\n",
              "      <td>0.258804</td>\n",
              "      <td>0.025362</td>\n",
              "      <td>0.440429</td>\n",
              "    </tr>\n",
              "    <tr>\n",
              "      <th>8804</th>\n",
              "      <td>0.491400</td>\n",
              "      <td>0.004822</td>\n",
              "      <td>0.386963</td>\n",
              "    </tr>\n",
              "    <tr>\n",
              "      <th>8805</th>\n",
              "      <td>0.280098</td>\n",
              "      <td>0.011984</td>\n",
              "      <td>0.580298</td>\n",
              "    </tr>\n",
              "    <tr>\n",
              "      <th>8806</th>\n",
              "      <td>0.226044</td>\n",
              "      <td>0.012014</td>\n",
              "      <td>0.297864</td>\n",
              "    </tr>\n",
              "  </tbody>\n",
              "</table>\n",
              "<p>8807 rows × 3 columns</p>\n",
              "</div>"
            ],
            "text/plain": [
              "      network_packet_size  session_duration  ip_reputation_score\n",
              "0                0.438165          0.068497             0.655587\n",
              "1                0.334152          0.216623             0.324443\n",
              "2                0.462735          0.010368             0.799160\n",
              "3                0.606061          0.083555             0.131015\n",
              "4                0.318591          0.073998             0.056820\n",
              "...                   ...               ...                  ...\n",
              "8802             0.106470          0.031370             0.558949\n",
              "8803             0.258804          0.025362             0.440429\n",
              "8804             0.491400          0.004822             0.386963\n",
              "8805             0.280098          0.011984             0.580298\n",
              "8806             0.226044          0.012014             0.297864\n",
              "\n",
              "[8807 rows x 3 columns]"
            ]
          },
          "execution_count": 37,
          "metadata": {},
          "output_type": "execute_result"
        }
      ],
      "source": [
        "vars_numeric_norm.columns = vars_numeric.columns\n",
        "\n",
        "vars_numeric_norm"
      ]
    },
    {
      "cell_type": "code",
      "execution_count": 38,
      "id": "95e06ad7",
      "metadata": {
        "colab": {
          "base_uri": "https://localhost:8080/",
          "height": 206
        },
        "id": "95e06ad7",
        "outputId": "4616075a-6c66-49d0-fa70-3418e6f0de77"
      },
      "outputs": [
        {
          "data": {
            "text/html": [
              "<div>\n",
              "<style scoped>\n",
              "    .dataframe tbody tr th:only-of-type {\n",
              "        vertical-align: middle;\n",
              "    }\n",
              "\n",
              "    .dataframe tbody tr th {\n",
              "        vertical-align: top;\n",
              "    }\n",
              "\n",
              "    .dataframe thead th {\n",
              "        text-align: right;\n",
              "    }\n",
              "</style>\n",
              "<table border=\"1\" class=\"dataframe\">\n",
              "  <thead>\n",
              "    <tr style=\"text-align: right;\">\n",
              "      <th></th>\n",
              "      <th>network_packet_size</th>\n",
              "      <th>protocol_type</th>\n",
              "      <th>login_attempts</th>\n",
              "      <th>session_duration</th>\n",
              "      <th>encryption_used</th>\n",
              "      <th>ip_reputation_score</th>\n",
              "      <th>failed_logins</th>\n",
              "      <th>browser_type</th>\n",
              "      <th>unusual_time_access</th>\n",
              "      <th>attack_detected</th>\n",
              "    </tr>\n",
              "  </thead>\n",
              "  <tbody>\n",
              "    <tr>\n",
              "      <th>0</th>\n",
              "      <td>599</td>\n",
              "      <td>2</td>\n",
              "      <td>4</td>\n",
              "      <td>492.983263</td>\n",
              "      <td>1</td>\n",
              "      <td>0.606818</td>\n",
              "      <td>1</td>\n",
              "      <td>2</td>\n",
              "      <td>0</td>\n",
              "      <td>1</td>\n",
              "    </tr>\n",
              "    <tr>\n",
              "      <th>1</th>\n",
              "      <td>472</td>\n",
              "      <td>2</td>\n",
              "      <td>3</td>\n",
              "      <td>1557.996461</td>\n",
              "      <td>1</td>\n",
              "      <td>0.301569</td>\n",
              "      <td>0</td>\n",
              "      <td>3</td>\n",
              "      <td>0</td>\n",
              "      <td>0</td>\n",
              "    </tr>\n",
              "    <tr>\n",
              "      <th>2</th>\n",
              "      <td>629</td>\n",
              "      <td>2</td>\n",
              "      <td>3</td>\n",
              "      <td>75.044262</td>\n",
              "      <td>1</td>\n",
              "      <td>0.739164</td>\n",
              "      <td>2</td>\n",
              "      <td>4</td>\n",
              "      <td>0</td>\n",
              "      <td>1</td>\n",
              "    </tr>\n",
              "    <tr>\n",
              "      <th>3</th>\n",
              "      <td>804</td>\n",
              "      <td>1</td>\n",
              "      <td>4</td>\n",
              "      <td>601.248835</td>\n",
              "      <td>1</td>\n",
              "      <td>0.123267</td>\n",
              "      <td>0</td>\n",
              "      <td>1</td>\n",
              "      <td>0</td>\n",
              "      <td>1</td>\n",
              "    </tr>\n",
              "    <tr>\n",
              "      <th>4</th>\n",
              "      <td>453</td>\n",
              "      <td>2</td>\n",
              "      <td>5</td>\n",
              "      <td>532.540888</td>\n",
              "      <td>2</td>\n",
              "      <td>0.054874</td>\n",
              "      <td>1</td>\n",
              "      <td>3</td>\n",
              "      <td>0</td>\n",
              "      <td>0</td>\n",
              "    </tr>\n",
              "  </tbody>\n",
              "</table>\n",
              "</div>"
            ],
            "text/plain": [
              "   network_packet_size  protocol_type  login_attempts  session_duration  \\\n",
              "0                  599              2               4        492.983263   \n",
              "1                  472              2               3       1557.996461   \n",
              "2                  629              2               3         75.044262   \n",
              "3                  804              1               4        601.248835   \n",
              "4                  453              2               5        532.540888   \n",
              "\n",
              "   encryption_used  ip_reputation_score  failed_logins  browser_type  \\\n",
              "0                1             0.606818              1             2   \n",
              "1                1             0.301569              0             3   \n",
              "2                1             0.739164              2             4   \n",
              "3                1             0.123267              0             1   \n",
              "4                2             0.054874              1             3   \n",
              "\n",
              "   unusual_time_access  attack_detected  \n",
              "0                    0                1  \n",
              "1                    0                0  \n",
              "2                    0                1  \n",
              "3                    0                1  \n",
              "4                    0                0  "
            ]
          },
          "execution_count": 38,
          "metadata": {},
          "output_type": "execute_result"
        }
      ],
      "source": [
        "df.head()"
      ]
    },
    {
      "cell_type": "code",
      "execution_count": 39,
      "id": "65abf693",
      "metadata": {
        "colab": {
          "base_uri": "https://localhost:8080/",
          "height": 424
        },
        "id": "65abf693",
        "outputId": "484a7576-b5ad-4d33-8cc5-6ea6b77f0e86"
      },
      "outputs": [
        {
          "data": {
            "text/html": [
              "<div>\n",
              "<style scoped>\n",
              "    .dataframe tbody tr th:only-of-type {\n",
              "        vertical-align: middle;\n",
              "    }\n",
              "\n",
              "    .dataframe tbody tr th {\n",
              "        vertical-align: top;\n",
              "    }\n",
              "\n",
              "    .dataframe thead th {\n",
              "        text-align: right;\n",
              "    }\n",
              "</style>\n",
              "<table border=\"1\" class=\"dataframe\">\n",
              "  <thead>\n",
              "    <tr style=\"text-align: right;\">\n",
              "      <th></th>\n",
              "      <th>network_packet_size</th>\n",
              "      <th>protocol_type</th>\n",
              "      <th>login_attempts</th>\n",
              "      <th>session_duration</th>\n",
              "      <th>encryption_used</th>\n",
              "      <th>ip_reputation_score</th>\n",
              "      <th>failed_logins</th>\n",
              "      <th>browser_type</th>\n",
              "      <th>unusual_time_access</th>\n",
              "      <th>attack_detected</th>\n",
              "    </tr>\n",
              "  </thead>\n",
              "  <tbody>\n",
              "    <tr>\n",
              "      <th>0</th>\n",
              "      <td>0.438165</td>\n",
              "      <td>2</td>\n",
              "      <td>4</td>\n",
              "      <td>0.068497</td>\n",
              "      <td>1</td>\n",
              "      <td>0.655587</td>\n",
              "      <td>1</td>\n",
              "      <td>2</td>\n",
              "      <td>0</td>\n",
              "      <td>1</td>\n",
              "    </tr>\n",
              "    <tr>\n",
              "      <th>1</th>\n",
              "      <td>0.334152</td>\n",
              "      <td>2</td>\n",
              "      <td>3</td>\n",
              "      <td>0.216623</td>\n",
              "      <td>1</td>\n",
              "      <td>0.324443</td>\n",
              "      <td>0</td>\n",
              "      <td>3</td>\n",
              "      <td>0</td>\n",
              "      <td>0</td>\n",
              "    </tr>\n",
              "    <tr>\n",
              "      <th>2</th>\n",
              "      <td>0.462735</td>\n",
              "      <td>2</td>\n",
              "      <td>3</td>\n",
              "      <td>0.010368</td>\n",
              "      <td>1</td>\n",
              "      <td>0.799160</td>\n",
              "      <td>2</td>\n",
              "      <td>4</td>\n",
              "      <td>0</td>\n",
              "      <td>1</td>\n",
              "    </tr>\n",
              "    <tr>\n",
              "      <th>3</th>\n",
              "      <td>0.606061</td>\n",
              "      <td>1</td>\n",
              "      <td>4</td>\n",
              "      <td>0.083555</td>\n",
              "      <td>1</td>\n",
              "      <td>0.131015</td>\n",
              "      <td>0</td>\n",
              "      <td>1</td>\n",
              "      <td>0</td>\n",
              "      <td>1</td>\n",
              "    </tr>\n",
              "    <tr>\n",
              "      <th>4</th>\n",
              "      <td>0.318591</td>\n",
              "      <td>2</td>\n",
              "      <td>5</td>\n",
              "      <td>0.073998</td>\n",
              "      <td>2</td>\n",
              "      <td>0.056820</td>\n",
              "      <td>1</td>\n",
              "      <td>3</td>\n",
              "      <td>0</td>\n",
              "      <td>0</td>\n",
              "    </tr>\n",
              "    <tr>\n",
              "      <th>...</th>\n",
              "      <td>...</td>\n",
              "      <td>...</td>\n",
              "      <td>...</td>\n",
              "      <td>...</td>\n",
              "      <td>...</td>\n",
              "      <td>...</td>\n",
              "      <td>...</td>\n",
              "      <td>...</td>\n",
              "      <td>...</td>\n",
              "      <td>...</td>\n",
              "    </tr>\n",
              "    <tr>\n",
              "      <th>8802</th>\n",
              "      <td>0.106470</td>\n",
              "      <td>0</td>\n",
              "      <td>3</td>\n",
              "      <td>0.031370</td>\n",
              "      <td>2</td>\n",
              "      <td>0.558949</td>\n",
              "      <td>3</td>\n",
              "      <td>4</td>\n",
              "      <td>0</td>\n",
              "      <td>1</td>\n",
              "    </tr>\n",
              "    <tr>\n",
              "      <th>8803</th>\n",
              "      <td>0.258804</td>\n",
              "      <td>2</td>\n",
              "      <td>3</td>\n",
              "      <td>0.025362</td>\n",
              "      <td>0</td>\n",
              "      <td>0.440429</td>\n",
              "      <td>0</td>\n",
              "      <td>4</td>\n",
              "      <td>0</td>\n",
              "      <td>0</td>\n",
              "    </tr>\n",
              "    <tr>\n",
              "      <th>8804</th>\n",
              "      <td>0.491400</td>\n",
              "      <td>2</td>\n",
              "      <td>5</td>\n",
              "      <td>0.004822</td>\n",
              "      <td>2</td>\n",
              "      <td>0.386963</td>\n",
              "      <td>1</td>\n",
              "      <td>3</td>\n",
              "      <td>0</td>\n",
              "      <td>0</td>\n",
              "    </tr>\n",
              "    <tr>\n",
              "      <th>8805</th>\n",
              "      <td>0.280098</td>\n",
              "      <td>2</td>\n",
              "      <td>4</td>\n",
              "      <td>0.011984</td>\n",
              "      <td>2</td>\n",
              "      <td>0.580298</td>\n",
              "      <td>1</td>\n",
              "      <td>4</td>\n",
              "      <td>1</td>\n",
              "      <td>0</td>\n",
              "    </tr>\n",
              "    <tr>\n",
              "      <th>8806</th>\n",
              "      <td>0.226044</td>\n",
              "      <td>2</td>\n",
              "      <td>6</td>\n",
              "      <td>0.012014</td>\n",
              "      <td>0</td>\n",
              "      <td>0.297864</td>\n",
              "      <td>4</td>\n",
              "      <td>4</td>\n",
              "      <td>1</td>\n",
              "      <td>1</td>\n",
              "    </tr>\n",
              "  </tbody>\n",
              "</table>\n",
              "<p>8807 rows × 10 columns</p>\n",
              "</div>"
            ],
            "text/plain": [
              "      network_packet_size  protocol_type  login_attempts  session_duration  \\\n",
              "0                0.438165              2               4          0.068497   \n",
              "1                0.334152              2               3          0.216623   \n",
              "2                0.462735              2               3          0.010368   \n",
              "3                0.606061              1               4          0.083555   \n",
              "4                0.318591              2               5          0.073998   \n",
              "...                   ...            ...             ...               ...   \n",
              "8802             0.106470              0               3          0.031370   \n",
              "8803             0.258804              2               3          0.025362   \n",
              "8804             0.491400              2               5          0.004822   \n",
              "8805             0.280098              2               4          0.011984   \n",
              "8806             0.226044              2               6          0.012014   \n",
              "\n",
              "      encryption_used  ip_reputation_score  failed_logins  browser_type  \\\n",
              "0                   1             0.655587              1             2   \n",
              "1                   1             0.324443              0             3   \n",
              "2                   1             0.799160              2             4   \n",
              "3                   1             0.131015              0             1   \n",
              "4                   2             0.056820              1             3   \n",
              "...               ...                  ...            ...           ...   \n",
              "8802                2             0.558949              3             4   \n",
              "8803                0             0.440429              0             4   \n",
              "8804                2             0.386963              1             3   \n",
              "8805                2             0.580298              1             4   \n",
              "8806                0             0.297864              4             4   \n",
              "\n",
              "      unusual_time_access  attack_detected  \n",
              "0                       0                1  \n",
              "1                       0                0  \n",
              "2                       0                1  \n",
              "3                       0                1  \n",
              "4                       0                0  \n",
              "...                   ...              ...  \n",
              "8802                    0                1  \n",
              "8803                    0                0  \n",
              "8804                    0                0  \n",
              "8805                    1                0  \n",
              "8806                    1                1  \n",
              "\n",
              "[8807 rows x 10 columns]"
            ]
          },
          "execution_count": 39,
          "metadata": {},
          "output_type": "execute_result"
        }
      ],
      "source": [
        "for col in df.columns:\n",
        "    if col in vars_numeric_norm.columns:\n",
        "        df[col] = vars_numeric_norm[col]\n",
        "\n",
        "df"
      ]
    },
    {
      "cell_type": "markdown",
      "id": "241ee1a7",
      "metadata": {
        "id": "241ee1a7"
      },
      "source": [
        "K-NN"
      ]
    },
    {
      "cell_type": "markdown",
      "id": "df155347",
      "metadata": {
        "id": "df155347"
      },
      "source": [
        "Entrenamiento del Modelo"
      ]
    },
    {
      "cell_type": "code",
      "execution_count": 40,
      "id": "a6048b70",
      "metadata": {
        "id": "a6048b70"
      },
      "outputs": [],
      "source": [
        "X = pd.DataFrame(df.drop(columns = ['attack_detected']))\n",
        "y = pd.DataFrame(df['attack_detected'])"
      ]
    },
    {
      "cell_type": "markdown",
      "id": "4744be5d",
      "metadata": {
        "id": "4744be5d"
      },
      "source": [
        "Separacion de los datos en datos de entrenamiento y datos de test"
      ]
    },
    {
      "cell_type": "code",
      "execution_count": 41,
      "id": "46ab9a49",
      "metadata": {
        "id": "46ab9a49"
      },
      "outputs": [],
      "source": [
        "from sklearn.model_selection import train_test_split\n",
        "\n",
        "X_train, X_test, y_train, y_test = train_test_split(X, y, test_size=0.3, random_state=0)"
      ]
    },
    {
      "cell_type": "code",
      "execution_count": 42,
      "id": "eed941b6",
      "metadata": {
        "id": "eed941b6"
      },
      "outputs": [],
      "source": [
        "from sklearn.neighbors import KNeighborsClassifier\n",
        "model = KNeighborsClassifier()\n",
        "\n",
        "model.fit(X_train, y_train.iloc[:,0])\n",
        "\n",
        "y_pred = model.predict(X_test)"
      ]
    },
    {
      "cell_type": "markdown",
      "id": "3915fb06",
      "metadata": {
        "id": "3915fb06"
      },
      "source": [
        "Evaluacion del modelo"
      ]
    },
    {
      "cell_type": "markdown",
      "id": "e7d06243",
      "metadata": {
        "id": "e7d06243"
      },
      "source": [
        "metrica matriz de confusion"
      ]
    },
    {
      "cell_type": "code",
      "execution_count": 43,
      "id": "0ebb1a1d",
      "metadata": {
        "colab": {
          "base_uri": "https://localhost:8080/"
        },
        "id": "0ebb1a1d",
        "outputId": "56cb5177-3826-4779-be85-47d24ad76337"
      },
      "outputs": [
        {
          "data": {
            "text/plain": [
              "array([[1415,   94],\n",
              "       [ 383,  751]], dtype=int64)"
            ]
          },
          "execution_count": 43,
          "metadata": {},
          "output_type": "execute_result"
        }
      ],
      "source": [
        "from sklearn.metrics import confusion_matrix\n",
        "\n",
        "confusion_matrix(y_test, y_pred)"
      ]
    },
    {
      "cell_type": "markdown",
      "id": "0032a094",
      "metadata": {
        "id": "0032a094"
      },
      "source": [
        "metrica accuracy"
      ]
    },
    {
      "cell_type": "code",
      "execution_count": 44,
      "id": "d917feac",
      "metadata": {
        "colab": {
          "base_uri": "https://localhost:8080/"
        },
        "id": "d917feac",
        "outputId": "1f8e65ad-18a9-4e5e-e4f5-e2e8c163f09c"
      },
      "outputs": [
        {
          "data": {
            "text/plain": [
              "0.8195232690124858"
            ]
          },
          "execution_count": 44,
          "metadata": {},
          "output_type": "execute_result"
        }
      ],
      "source": [
        "from sklearn.metrics import accuracy_score\n",
        "\n",
        "accuracy_score(y_test, y_pred)"
      ]
    },
    {
      "cell_type": "markdown",
      "id": "18faaa38",
      "metadata": {
        "id": "18faaa38"
      },
      "source": [
        "metrica accuracy balanceado"
      ]
    },
    {
      "cell_type": "code",
      "execution_count": 45,
      "id": "N2aQt2iaPE4L",
      "metadata": {
        "colab": {
          "base_uri": "https://localhost:8080/"
        },
        "id": "N2aQt2iaPE4L",
        "outputId": "8d7a32ab-6e88-40f3-98f5-02382031e28e"
      },
      "outputs": [
        {
          "data": {
            "text/plain": [
              "0.7999822931897154"
            ]
          },
          "execution_count": 45,
          "metadata": {},
          "output_type": "execute_result"
        }
      ],
      "source": [
        "from sklearn.metrics import balanced_accuracy_score\n",
        "\n",
        "balanced_accuracy_score(y_test, y_pred)"
      ]
    },
    {
      "cell_type": "markdown",
      "id": "_n3cV0ZVP5PD",
      "metadata": {
        "id": "_n3cV0ZVP5PD"
      },
      "source": [
        " ¿Sería mejor emplear la métrica de accuracy o la métrica de balanced accuracy? -> Sería mejor emplear la métrica accuracy porque tiene mayor precisión 0.814 > 0.812\n",
        "\n"
      ]
    },
    {
      "cell_type": "markdown",
      "id": "tSzeuUymSesl",
      "metadata": {
        "id": "tSzeuUymSesl"
      },
      "source": [
        "**KNN CON GRIDSEARCHCV**"
      ]
    },
    {
      "cell_type": "code",
      "execution_count": 46,
      "id": "X-GOI2KvRxS1",
      "metadata": {
        "id": "X-GOI2KvRxS1"
      },
      "outputs": [],
      "source": [
        "from sklearn.model_selection import GridSearchCV\n",
        "parameters = {'n_neighbors':range(1,20)}\n",
        "knn = KNeighborsClassifier()\n",
        "clf = GridSearchCV(knn, parameters)\n",
        "clf.fit(X_train, y_train.iloc[:,0])\n",
        "\n",
        "y_pred2 = model.predict(X_test)\n"
      ]
    },
    {
      "cell_type": "code",
      "execution_count": 47,
      "id": "GI4VXfOAS1_w",
      "metadata": {
        "colab": {
          "base_uri": "https://localhost:8080/"
        },
        "id": "GI4VXfOAS1_w",
        "outputId": "bee45857-61d9-4101-978e-63a6bdf59aab"
      },
      "outputs": [
        {
          "data": {
            "text/plain": [
              "{'n_neighbors': 13}"
            ]
          },
          "execution_count": 47,
          "metadata": {},
          "output_type": "execute_result"
        }
      ],
      "source": [
        "clf.best_params_"
      ]
    },
    {
      "cell_type": "markdown",
      "id": "l92z4MsnTD2D",
      "metadata": {
        "id": "l92z4MsnTD2D"
      },
      "source": [
        "**Métrica matriz de confusión**"
      ]
    },
    {
      "cell_type": "code",
      "execution_count": 48,
      "id": "k6M2IMoBTADx",
      "metadata": {
        "colab": {
          "base_uri": "https://localhost:8080/"
        },
        "id": "k6M2IMoBTADx",
        "outputId": "b273afc9-f768-44ec-8f51-bc72391ad6a0"
      },
      "outputs": [
        {
          "data": {
            "text/plain": [
              "array([[1415,   94],\n",
              "       [ 383,  751]], dtype=int64)"
            ]
          },
          "execution_count": 48,
          "metadata": {},
          "output_type": "execute_result"
        }
      ],
      "source": [
        "from sklearn.metrics import confusion_matrix\n",
        "\n",
        "confusion_matrix(y_test, y_pred2)"
      ]
    },
    {
      "cell_type": "markdown",
      "id": "zIwb5ZCLTMLK",
      "metadata": {
        "id": "zIwb5ZCLTMLK"
      },
      "source": [
        "**Métrica accuracy**"
      ]
    },
    {
      "cell_type": "code",
      "execution_count": 49,
      "id": "MO9pSZPKTOVn",
      "metadata": {
        "colab": {
          "base_uri": "https://localhost:8080/"
        },
        "id": "MO9pSZPKTOVn",
        "outputId": "752a0f53-012f-4941-fc01-843afb36ca5b"
      },
      "outputs": [
        {
          "data": {
            "text/plain": [
              "0.8195232690124858"
            ]
          },
          "execution_count": 49,
          "metadata": {},
          "output_type": "execute_result"
        }
      ],
      "source": [
        "from sklearn.metrics import accuracy_score\n",
        "\n",
        "accuracy_score(y_test, y_pred2)"
      ]
    },
    {
      "cell_type": "markdown",
      "id": "WInC6jWDUmSz",
      "metadata": {
        "id": "WInC6jWDUmSz"
      },
      "source": []
    },
    {
      "cell_type": "markdown",
      "id": "r0eKlaBYTSws",
      "metadata": {
        "id": "r0eKlaBYTSws"
      },
      "source": [
        "**Metrica accuracy balanceado**"
      ]
    },
    {
      "cell_type": "code",
      "execution_count": 50,
      "id": "iiXzRFCHTVoj",
      "metadata": {
        "colab": {
          "base_uri": "https://localhost:8080/"
        },
        "id": "iiXzRFCHTVoj",
        "outputId": "52e9ef2f-f50c-42e2-b070-523dd2d21315"
      },
      "outputs": [
        {
          "data": {
            "text/plain": [
              "0.7999822931897154"
            ]
          },
          "execution_count": 50,
          "metadata": {},
          "output_type": "execute_result"
        }
      ],
      "source": [
        "from sklearn.metrics import balanced_accuracy_score\n",
        "\n",
        "balanced_accuracy_score(y_test, y_pred2)"
      ]
    },
    {
      "cell_type": "markdown",
      "id": "tsmhHg_JWNLY",
      "metadata": {
        "id": "tsmhHg_JWNLY"
      },
      "source": []
    },
    {
      "cell_type": "markdown",
      "id": "Wfry-uL6UVQT",
      "metadata": {
        "id": "Wfry-uL6UVQT"
      },
      "source": [
        "**¿El resultado ha mejorado o ha empeorado?** -> En el accuracy normal, ha mejorado sin embargo en el accuracy ha empeorado por 0.013\n",
        "Teniendo en cuenta esto, sería mejor dejar la K por defecto\n"
      ]
    },
    {
      "cell_type": "markdown",
      "id": "15fef361",
      "metadata": {
        "id": "15fef361"
      },
      "source": [
        "**Árbol de decision**"
      ]
    },
    {
      "cell_type": "markdown",
      "id": "bd5c17ce",
      "metadata": {
        "id": "bd5c17ce"
      },
      "source": [
        "Entrenamiento del modelo"
      ]
    },
    {
      "cell_type": "code",
      "execution_count": 51,
      "id": "2a972a09",
      "metadata": {
        "id": "2a972a09"
      },
      "outputs": [],
      "source": [
        "from sklearn.tree import DecisionTreeClassifier\n",
        "\n",
        "model2 = DecisionTreeClassifier()\n",
        "model2.fit(X_train, y_train)\n",
        "\n",
        "y_pred3 = model2.predict(X_test)"
      ]
    },
    {
      "cell_type": "markdown",
      "id": "00671eb9",
      "metadata": {
        "id": "00671eb9"
      },
      "source": [
        "Evaluacion del modelo"
      ]
    },
    {
      "cell_type": "markdown",
      "id": "72721fb1",
      "metadata": {
        "id": "72721fb1"
      },
      "source": [
        "Metrica matriz de confusion"
      ]
    },
    {
      "cell_type": "code",
      "execution_count": 52,
      "id": "5b910048",
      "metadata": {
        "colab": {
          "base_uri": "https://localhost:8080/"
        },
        "id": "5b910048",
        "outputId": "548c7f36-71dc-4562-f918-8713721f70ec"
      },
      "outputs": [
        {
          "data": {
            "text/plain": [
              "array([[1225,  284],\n",
              "       [ 219,  915]], dtype=int64)"
            ]
          },
          "execution_count": 52,
          "metadata": {},
          "output_type": "execute_result"
        }
      ],
      "source": [
        "confusion_matrix(y_test, y_pred3)"
      ]
    },
    {
      "cell_type": "markdown",
      "id": "93f7a83d",
      "metadata": {
        "id": "93f7a83d"
      },
      "source": [
        "Metrica accuracy"
      ]
    },
    {
      "cell_type": "code",
      "execution_count": 53,
      "id": "491a692b",
      "metadata": {
        "colab": {
          "base_uri": "https://localhost:8080/"
        },
        "id": "491a692b",
        "outputId": "295175fd-c32e-4530-aa35-5312ca8556e3"
      },
      "outputs": [
        {
          "data": {
            "text/plain": [
              "0.8096859629209232"
            ]
          },
          "execution_count": 53,
          "metadata": {},
          "output_type": "execute_result"
        }
      ],
      "source": [
        "accuracy_score(y_test, y_pred3)"
      ]
    },
    {
      "cell_type": "markdown",
      "id": "dc6735e9",
      "metadata": {
        "id": "dc6735e9"
      },
      "source": [
        "Metrica accuracy balanceado"
      ]
    },
    {
      "cell_type": "code",
      "execution_count": 54,
      "id": "b9919cdb",
      "metadata": {
        "colab": {
          "base_uri": "https://localhost:8080/"
        },
        "id": "b9919cdb",
        "outputId": "5a4f5a22-12de-47eb-fdac-23d7e45d6041"
      },
      "outputs": [
        {
          "data": {
            "text/plain": [
              "0.8093370990985305"
            ]
          },
          "execution_count": 54,
          "metadata": {},
          "output_type": "execute_result"
        }
      ],
      "source": [
        "balanced_accuracy_score(y_test, y_pred3)"
      ]
    },
    {
      "cell_type": "markdown",
      "id": "XaUIAPtrWONF",
      "metadata": {
        "id": "XaUIAPtrWONF"
      },
      "source": [
        "**¿Sería mejor emplear la métrica de accuracy o la métrica de balanced accuracy?** Sería mejor implementar la métrica accuracy porque tiene mayor precision 0.812 > 0.810\n"
      ]
    },
    {
      "cell_type": "markdown",
      "id": "h_Y32qfaXKej",
      "metadata": {
        "id": "h_Y32qfaXKej"
      },
      "source": [
        "**Árbol de decisión con GridSearchCV**"
      ]
    },
    {
      "cell_type": "code",
      "execution_count": 55,
      "id": "romLu1m-Wro8",
      "metadata": {
        "id": "romLu1m-Wro8"
      },
      "outputs": [],
      "source": [
        "from sklearn.model_selection import GridSearchCV\n",
        "parameters =  {'max_depth':range(1,50)}\n",
        "tree = DecisionTreeClassifier()\n",
        "clf = GridSearchCV(tree, parameters)\n",
        "clf.fit(X_train, y_train.iloc[:,0])\n",
        "\n",
        "y_pred4 = clf.predict(X_test)"
      ]
    },
    {
      "cell_type": "markdown",
      "id": "COsIiL84XP3t",
      "metadata": {
        "id": "COsIiL84XP3t"
      },
      "source": [
        "**Métrica matriz de confusión**"
      ]
    },
    {
      "cell_type": "code",
      "execution_count": 56,
      "id": "DqY5ZuyKW4RS",
      "metadata": {
        "colab": {
          "base_uri": "https://localhost:8080/"
        },
        "id": "DqY5ZuyKW4RS",
        "outputId": "4cda17c2-8fc7-41f2-a6d1-53774dbd5c4a"
      },
      "outputs": [
        {
          "data": {
            "text/plain": [
              "array([[1509,    0],\n",
              "       [ 290,  844]], dtype=int64)"
            ]
          },
          "execution_count": 56,
          "metadata": {},
          "output_type": "execute_result"
        }
      ],
      "source": [
        "confusion_matrix(y_test, y_pred4)"
      ]
    },
    {
      "cell_type": "markdown",
      "id": "92Tc8rQCXVDe",
      "metadata": {
        "id": "92Tc8rQCXVDe"
      },
      "source": [
        "**Métrica accuracy**"
      ]
    },
    {
      "cell_type": "code",
      "execution_count": 57,
      "id": "a2SrvDAIW9QI",
      "metadata": {
        "colab": {
          "base_uri": "https://localhost:8080/"
        },
        "id": "a2SrvDAIW9QI",
        "outputId": "9be3a210-9152-486c-f1ee-fcb92a946b73"
      },
      "outputs": [
        {
          "data": {
            "text/plain": [
              "0.8902762012864169"
            ]
          },
          "execution_count": 57,
          "metadata": {},
          "output_type": "execute_result"
        }
      ],
      "source": [
        "accuracy_score(y_test, y_pred4)"
      ]
    },
    {
      "cell_type": "markdown",
      "id": "6sRhAJkXXZrK",
      "metadata": {
        "id": "6sRhAJkXXZrK"
      },
      "source": [
        "**Métria accuracy balanceada**"
      ]
    },
    {
      "cell_type": "code",
      "execution_count": 58,
      "id": "XxrF-sH9XBV3",
      "metadata": {
        "colab": {
          "base_uri": "https://localhost:8080/"
        },
        "id": "XxrF-sH9XBV3",
        "outputId": "a098adbd-7f82-46be-b430-fa283de09ae4"
      },
      "outputs": [
        {
          "data": {
            "text/plain": [
              "0.8721340388007055"
            ]
          },
          "execution_count": 58,
          "metadata": {},
          "output_type": "execute_result"
        }
      ],
      "source": [
        "balanced_accuracy_score(y_test, y_pred4)"
      ]
    },
    {
      "cell_type": "markdown",
      "id": "gYKOjEAvX0sT",
      "metadata": {
        "id": "gYKOjEAvX0sT"
      },
      "source": [
        "**¿El resultado ha mejorado o ha empeorado?** Ha mejorado considerablemente, casi 9 puntos de o.80 a 0.89"
      ]
    }
  ],
  "metadata": {
    "colab": {
      "provenance": []
    },
    "kernelspec": {
      "display_name": "base",
      "language": "python",
      "name": "python3"
    },
    "language_info": {
      "codemirror_mode": {
        "name": "ipython",
        "version": 3
      },
      "file_extension": ".py",
      "mimetype": "text/x-python",
      "name": "python",
      "nbconvert_exporter": "python",
      "pygments_lexer": "ipython3",
      "version": "3.12.7"
    }
  },
  "nbformat": 4,
  "nbformat_minor": 5
}
